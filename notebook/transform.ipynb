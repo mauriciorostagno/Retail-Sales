{
 "cells": [
  {
   "cell_type": "markdown",
   "id": "8762ed6f-92dc-4000-ae0a-5758d8cc287c",
   "metadata": {},
   "source": [
    "# Import libraries and Dataset"
   ]
  },
  {
   "cell_type": "code",
   "execution_count": 2,
   "id": "d4c172a7-923e-4bbb-bfb6-3d2a01112bd5",
   "metadata": {},
   "outputs": [],
   "source": [
    "import duckdb\n",
    "import pandas as pd\n",
    "import numpy as np\n",
    "import seaborn as sns\n",
    "import matplotlib.pyplot as plt"
   ]
  },
  {
   "cell_type": "code",
   "execution_count": 3,
   "id": "b0d4cfd1-5990-4896-a09e-dce3bcce5bc7",
   "metadata": {},
   "outputs": [],
   "source": [
    "con = duckdb.connect(\"../warehouse/online_retail.duckdb\")\n",
    "df = con.execute(\"SELECT * FROM online_retail\").df()"
   ]
  },
  {
   "cell_type": "code",
   "execution_count": 4,
   "id": "54e7dfb6-f4b7-4902-a1f4-5babfca152df",
   "metadata": {},
   "outputs": [
    {
     "data": {
      "text/html": [
       "<div>\n",
       "<style scoped>\n",
       "    .dataframe tbody tr th:only-of-type {\n",
       "        vertical-align: middle;\n",
       "    }\n",
       "\n",
       "    .dataframe tbody tr th {\n",
       "        vertical-align: top;\n",
       "    }\n",
       "\n",
       "    .dataframe thead th {\n",
       "        text-align: right;\n",
       "    }\n",
       "</style>\n",
       "<table border=\"1\" class=\"dataframe\">\n",
       "  <thead>\n",
       "    <tr style=\"text-align: right;\">\n",
       "      <th></th>\n",
       "      <th>id_invoice</th>\n",
       "      <th>code_stock</th>\n",
       "      <th>name</th>\n",
       "      <th>quantity</th>\n",
       "      <th>invoice_date</th>\n",
       "      <th>price_per_unit</th>\n",
       "      <th>id_customer</th>\n",
       "      <th>country</th>\n",
       "    </tr>\n",
       "  </thead>\n",
       "  <tbody>\n",
       "    <tr>\n",
       "      <th>0</th>\n",
       "      <td>536365</td>\n",
       "      <td>85123A</td>\n",
       "      <td>WHITE HANGING HEART T-LIGHT HOLDER</td>\n",
       "      <td>6</td>\n",
       "      <td>01-12-2010 08:26</td>\n",
       "      <td>2.55</td>\n",
       "      <td>17850.0</td>\n",
       "      <td>UK</td>\n",
       "    </tr>\n",
       "    <tr>\n",
       "      <th>1</th>\n",
       "      <td>536365</td>\n",
       "      <td>71053</td>\n",
       "      <td>WHITE METAL LANTERN</td>\n",
       "      <td>6</td>\n",
       "      <td>01-12-2010 08:26</td>\n",
       "      <td>3.39</td>\n",
       "      <td>17850.0</td>\n",
       "      <td>UK</td>\n",
       "    </tr>\n",
       "    <tr>\n",
       "      <th>2</th>\n",
       "      <td>536365</td>\n",
       "      <td>84406B</td>\n",
       "      <td>CREAM CUPID HEARTS COAT HANGER</td>\n",
       "      <td>8</td>\n",
       "      <td>01-12-2010 08:26</td>\n",
       "      <td>2.75</td>\n",
       "      <td>17850.0</td>\n",
       "      <td>UK</td>\n",
       "    </tr>\n",
       "    <tr>\n",
       "      <th>3</th>\n",
       "      <td>536365</td>\n",
       "      <td>84029G</td>\n",
       "      <td>KNITTED UNION FLAG HOT WATER BOTTLE</td>\n",
       "      <td>6</td>\n",
       "      <td>01-12-2010 08:26</td>\n",
       "      <td>3.39</td>\n",
       "      <td>17850.0</td>\n",
       "      <td>UK</td>\n",
       "    </tr>\n",
       "    <tr>\n",
       "      <th>4</th>\n",
       "      <td>536365</td>\n",
       "      <td>84029E</td>\n",
       "      <td>RED WOOLLY HOTTIE WHITE HEART.</td>\n",
       "      <td>6</td>\n",
       "      <td>01-12-2010 08:26</td>\n",
       "      <td>3.39</td>\n",
       "      <td>17850.0</td>\n",
       "      <td>UK</td>\n",
       "    </tr>\n",
       "  </tbody>\n",
       "</table>\n",
       "</div>"
      ],
      "text/plain": [
       "  id_invoice code_stock                                 name  quantity  \\\n",
       "0     536365     85123A   WHITE HANGING HEART T-LIGHT HOLDER         6   \n",
       "1     536365      71053                  WHITE METAL LANTERN         6   \n",
       "2     536365     84406B       CREAM CUPID HEARTS COAT HANGER         8   \n",
       "3     536365     84029G  KNITTED UNION FLAG HOT WATER BOTTLE         6   \n",
       "4     536365     84029E       RED WOOLLY HOTTIE WHITE HEART.         6   \n",
       "\n",
       "       invoice_date  price_per_unit  id_customer country  \n",
       "0  01-12-2010 08:26            2.55      17850.0      UK  \n",
       "1  01-12-2010 08:26            3.39      17850.0      UK  \n",
       "2  01-12-2010 08:26            2.75      17850.0      UK  \n",
       "3  01-12-2010 08:26            3.39      17850.0      UK  \n",
       "4  01-12-2010 08:26            3.39      17850.0      UK  "
      ]
     },
     "execution_count": 4,
     "metadata": {},
     "output_type": "execute_result"
    }
   ],
   "source": [
    "df.head(5)"
   ]
  },
  {
   "cell_type": "markdown",
   "id": "52f1c526-108d-4e15-ba91-8c7d0a443467",
   "metadata": {},
   "source": [
    "# Visualize dataset"
   ]
  },
  {
   "cell_type": "code",
   "execution_count": 6,
   "id": "90d161ec-fae0-4d7b-bcdc-c4687ee1de9e",
   "metadata": {},
   "outputs": [
    {
     "data": {
      "text/html": [
       "<div>\n",
       "<style scoped>\n",
       "    .dataframe tbody tr th:only-of-type {\n",
       "        vertical-align: middle;\n",
       "    }\n",
       "\n",
       "    .dataframe tbody tr th {\n",
       "        vertical-align: top;\n",
       "    }\n",
       "\n",
       "    .dataframe thead th {\n",
       "        text-align: right;\n",
       "    }\n",
       "</style>\n",
       "<table border=\"1\" class=\"dataframe\">\n",
       "  <thead>\n",
       "    <tr style=\"text-align: right;\">\n",
       "      <th></th>\n",
       "      <th>id_invoice</th>\n",
       "      <th>code_stock</th>\n",
       "      <th>name</th>\n",
       "      <th>quantity</th>\n",
       "      <th>invoice_date</th>\n",
       "      <th>price_per_unit</th>\n",
       "      <th>id_customer</th>\n",
       "      <th>country</th>\n",
       "    </tr>\n",
       "  </thead>\n",
       "  <tbody>\n",
       "    <tr>\n",
       "      <th>541907</th>\n",
       "      <td>581587</td>\n",
       "      <td>23255</td>\n",
       "      <td>CHILDRENS CUTLERY CIRCUS PARADE</td>\n",
       "      <td>4</td>\n",
       "      <td>09-12-2011 12:50</td>\n",
       "      <td>4.15</td>\n",
       "      <td>12680.0</td>\n",
       "      <td>France</td>\n",
       "    </tr>\n",
       "    <tr>\n",
       "      <th>541908</th>\n",
       "      <td>581587</td>\n",
       "      <td>22138</td>\n",
       "      <td>BAKING SET 9 PIECE RETROSPOT</td>\n",
       "      <td>3</td>\n",
       "      <td>09-12-2011 12:50</td>\n",
       "      <td>4.95</td>\n",
       "      <td>12680.0</td>\n",
       "      <td>France</td>\n",
       "    </tr>\n",
       "  </tbody>\n",
       "</table>\n",
       "</div>"
      ],
      "text/plain": [
       "       id_invoice code_stock                             name  quantity  \\\n",
       "541907     581587      23255  CHILDRENS CUTLERY CIRCUS PARADE         4   \n",
       "541908     581587      22138    BAKING SET 9 PIECE RETROSPOT          3   \n",
       "\n",
       "            invoice_date  price_per_unit  id_customer country  \n",
       "541907  09-12-2011 12:50            4.15      12680.0  France  \n",
       "541908  09-12-2011 12:50            4.95      12680.0  France  "
      ]
     },
     "execution_count": 6,
     "metadata": {},
     "output_type": "execute_result"
    }
   ],
   "source": [
    "df.tail(2)\n",
    "# half million records"
   ]
  },
  {
   "cell_type": "code",
   "execution_count": 7,
   "id": "cbdde93b-ada0-4dee-a648-b0cdc4c1b2aa",
   "metadata": {},
   "outputs": [
    {
     "name": "stdout",
     "output_type": "stream",
     "text": [
      "<class 'pandas.core.frame.DataFrame'>\n",
      "RangeIndex: 541909 entries, 0 to 541908\n",
      "Data columns (total 8 columns):\n",
      " #   Column          Non-Null Count   Dtype  \n",
      "---  ------          --------------   -----  \n",
      " 0   id_invoice      541909 non-null  object \n",
      " 1   code_stock      541909 non-null  object \n",
      " 2   name            540455 non-null  object \n",
      " 3   quantity        541909 non-null  int64  \n",
      " 4   invoice_date    541909 non-null  object \n",
      " 5   price_per_unit  541909 non-null  float64\n",
      " 6   id_customer     406829 non-null  float64\n",
      " 7   country         541909 non-null  object \n",
      "dtypes: float64(2), int64(1), object(5)\n",
      "memory usage: 33.1+ MB\n"
     ]
    }
   ],
   "source": [
    "df.info()\n",
    "# 8 features\n",
    "# null records in name, id_customer\n",
    "# id_customer must be object"
   ]
  },
  {
   "cell_type": "code",
   "execution_count": 8,
   "id": "a401f2b0-12da-47be-9e24-2ecf41becbcf",
   "metadata": {},
   "outputs": [
    {
     "data": {
      "text/html": [
       "<div>\n",
       "<style scoped>\n",
       "    .dataframe tbody tr th:only-of-type {\n",
       "        vertical-align: middle;\n",
       "    }\n",
       "\n",
       "    .dataframe tbody tr th {\n",
       "        vertical-align: top;\n",
       "    }\n",
       "\n",
       "    .dataframe thead th {\n",
       "        text-align: right;\n",
       "    }\n",
       "</style>\n",
       "<table border=\"1\" class=\"dataframe\">\n",
       "  <thead>\n",
       "    <tr style=\"text-align: right;\">\n",
       "      <th></th>\n",
       "      <th>quantity</th>\n",
       "      <th>price_per_unit</th>\n",
       "      <th>id_customer</th>\n",
       "    </tr>\n",
       "  </thead>\n",
       "  <tbody>\n",
       "    <tr>\n",
       "      <th>count</th>\n",
       "      <td>541909.000000</td>\n",
       "      <td>541909.000000</td>\n",
       "      <td>406829.000000</td>\n",
       "    </tr>\n",
       "    <tr>\n",
       "      <th>mean</th>\n",
       "      <td>9.552250</td>\n",
       "      <td>4.611114</td>\n",
       "      <td>15287.690570</td>\n",
       "    </tr>\n",
       "    <tr>\n",
       "      <th>std</th>\n",
       "      <td>218.081158</td>\n",
       "      <td>96.759853</td>\n",
       "      <td>1713.600303</td>\n",
       "    </tr>\n",
       "    <tr>\n",
       "      <th>min</th>\n",
       "      <td>-80995.000000</td>\n",
       "      <td>-11062.060000</td>\n",
       "      <td>12346.000000</td>\n",
       "    </tr>\n",
       "    <tr>\n",
       "      <th>25%</th>\n",
       "      <td>1.000000</td>\n",
       "      <td>1.250000</td>\n",
       "      <td>13953.000000</td>\n",
       "    </tr>\n",
       "    <tr>\n",
       "      <th>50%</th>\n",
       "      <td>3.000000</td>\n",
       "      <td>2.080000</td>\n",
       "      <td>15152.000000</td>\n",
       "    </tr>\n",
       "    <tr>\n",
       "      <th>75%</th>\n",
       "      <td>10.000000</td>\n",
       "      <td>4.130000</td>\n",
       "      <td>16791.000000</td>\n",
       "    </tr>\n",
       "    <tr>\n",
       "      <th>max</th>\n",
       "      <td>80995.000000</td>\n",
       "      <td>38970.000000</td>\n",
       "      <td>18287.000000</td>\n",
       "    </tr>\n",
       "  </tbody>\n",
       "</table>\n",
       "</div>"
      ],
      "text/plain": [
       "            quantity  price_per_unit    id_customer\n",
       "count  541909.000000   541909.000000  406829.000000\n",
       "mean        9.552250        4.611114   15287.690570\n",
       "std       218.081158       96.759853    1713.600303\n",
       "min    -80995.000000   -11062.060000   12346.000000\n",
       "25%         1.000000        1.250000   13953.000000\n",
       "50%         3.000000        2.080000   15152.000000\n",
       "75%        10.000000        4.130000   16791.000000\n",
       "max     80995.000000    38970.000000   18287.000000"
      ]
     },
     "execution_count": 8,
     "metadata": {},
     "output_type": "execute_result"
    }
   ],
   "source": [
    "df.describe()"
   ]
  },
  {
   "cell_type": "markdown",
   "id": "a6a88a83-241c-4766-8c40-247d8fdbc4d8",
   "metadata": {},
   "source": [
    "# Data Cleaning and Exploration"
   ]
  },
  {
   "cell_type": "code",
   "execution_count": 10,
   "id": "92689e9e-589d-4f10-b6d7-fe6603db5234",
   "metadata": {},
   "outputs": [],
   "source": [
    "# clean or analize null values\n",
    "# id_customer to object\n",
    "# negative values in quantity and price_per_unit"
   ]
  },
  {
   "cell_type": "markdown",
   "id": "c89d7505-4009-4a39-b1fa-ea3e98274d75",
   "metadata": {},
   "source": [
    "### Duplicated values"
   ]
  },
  {
   "cell_type": "code",
   "execution_count": 12,
   "id": "cbe92fe1-fb28-4e05-bd45-1d61e09c4699",
   "metadata": {},
   "outputs": [
    {
     "data": {
      "text/plain": [
       "5268"
      ]
     },
     "execution_count": 12,
     "metadata": {},
     "output_type": "execute_result"
    }
   ],
   "source": [
    "df.duplicated().sum()"
   ]
  },
  {
   "cell_type": "code",
   "execution_count": 13,
   "id": "4ecc4fd5-b523-4580-ab2c-93bb50256d09",
   "metadata": {},
   "outputs": [
    {
     "data": {
      "text/plain": [
       "id_invoice  code_stock  name                                 quantity  invoice_date      price_per_unit  id_customer  country\n",
       "555524      22698       PINK REGENCY TEACUP AND SAUCER       1         05-06-2011 11:37  2.95            16923.0      UK         19\n",
       "            22697       GREEN REGENCY TEACUP AND SAUCER      1         05-06-2011 11:37  2.95            16923.0      UK         11\n",
       "572861      22775       PURPLE DRAWERKNOB ACRYLIC EDWARDIAN  12        26-10-2011 12:46  1.25            14102.0      UK          7\n",
       "572344      M           Manual                               48        24-10-2011 10:43  1.50            14607.0      UK          5\n",
       "540524      21756       BATH BUILDING BLOCK WORD             1         09-01-2011 12:53  5.95            16735.0      UK          5\n",
       "541266      21754       HOME BUILDING BLOCK WORD             1         16-01-2011 16:25  5.95            15673.0      UK          5\n",
       "            21755       LOVE BUILDING BLOCK WORD             1         16-01-2011 16:25  5.95            15673.0      UK          5\n",
       "538514      21756       BATH BUILDING BLOCK WORD             1         12-12-2010 14:27  5.95            15044.0      UK          5\n",
       "578289      23395       BELLE JARDINIERE CUSHION COVER       1         23-11-2011 14:07  3.75            17841.0      UK          5\n",
       "550331      85202       HANGING WOOD AND FELT HEART          1         17-04-2011 13:43  0.42            15555.0      UK          4\n",
       "Name: count, dtype: int64"
      ]
     },
     "execution_count": 13,
     "metadata": {},
     "output_type": "execute_result"
    }
   ],
   "source": [
    "duplicates = df[df.duplicated()]\n",
    "duplicates.value_counts().head(10)\n",
    "# Ten most duplicated records"
   ]
  },
  {
   "cell_type": "code",
   "execution_count": 14,
   "id": "33c0aa20-825c-48b8-9ec4-f7021d4fa40e",
   "metadata": {},
   "outputs": [
    {
     "data": {
      "text/html": [
       "<div>\n",
       "<style scoped>\n",
       "    .dataframe tbody tr th:only-of-type {\n",
       "        vertical-align: middle;\n",
       "    }\n",
       "\n",
       "    .dataframe tbody tr th {\n",
       "        vertical-align: top;\n",
       "    }\n",
       "\n",
       "    .dataframe thead th {\n",
       "        text-align: right;\n",
       "    }\n",
       "</style>\n",
       "<table border=\"1\" class=\"dataframe\">\n",
       "  <thead>\n",
       "    <tr style=\"text-align: right;\">\n",
       "      <th></th>\n",
       "      <th>id_invoice</th>\n",
       "      <th>code_stock</th>\n",
       "      <th>name</th>\n",
       "      <th>quantity</th>\n",
       "      <th>invoice_date</th>\n",
       "      <th>price_per_unit</th>\n",
       "      <th>id_customer</th>\n",
       "      <th>country</th>\n",
       "    </tr>\n",
       "  </thead>\n",
       "  <tbody>\n",
       "    <tr>\n",
       "      <th>517</th>\n",
       "      <td>536409</td>\n",
       "      <td>21866</td>\n",
       "      <td>UNION JACK FLAG LUGGAGE TAG</td>\n",
       "      <td>1</td>\n",
       "      <td>01-12-2010 11:45</td>\n",
       "      <td>1.25</td>\n",
       "      <td>17908.0</td>\n",
       "      <td>UK</td>\n",
       "    </tr>\n",
       "    <tr>\n",
       "      <th>527</th>\n",
       "      <td>536409</td>\n",
       "      <td>22866</td>\n",
       "      <td>HAND WARMER SCOTTY DOG DESIGN</td>\n",
       "      <td>1</td>\n",
       "      <td>01-12-2010 11:45</td>\n",
       "      <td>2.10</td>\n",
       "      <td>17908.0</td>\n",
       "      <td>UK</td>\n",
       "    </tr>\n",
       "    <tr>\n",
       "      <th>537</th>\n",
       "      <td>536409</td>\n",
       "      <td>22900</td>\n",
       "      <td>SET 2 TEA TOWELS I LOVE LONDON</td>\n",
       "      <td>1</td>\n",
       "      <td>01-12-2010 11:45</td>\n",
       "      <td>2.95</td>\n",
       "      <td>17908.0</td>\n",
       "      <td>UK</td>\n",
       "    </tr>\n",
       "    <tr>\n",
       "      <th>539</th>\n",
       "      <td>536409</td>\n",
       "      <td>22111</td>\n",
       "      <td>SCOTTIE DOG HOT WATER BOTTLE</td>\n",
       "      <td>1</td>\n",
       "      <td>01-12-2010 11:45</td>\n",
       "      <td>4.95</td>\n",
       "      <td>17908.0</td>\n",
       "      <td>UK</td>\n",
       "    </tr>\n",
       "    <tr>\n",
       "      <th>555</th>\n",
       "      <td>536412</td>\n",
       "      <td>22327</td>\n",
       "      <td>ROUND SNACK BOXES SET OF 4 SKULLS</td>\n",
       "      <td>1</td>\n",
       "      <td>01-12-2010 11:49</td>\n",
       "      <td>2.95</td>\n",
       "      <td>17920.0</td>\n",
       "      <td>UK</td>\n",
       "    </tr>\n",
       "  </tbody>\n",
       "</table>\n",
       "</div>"
      ],
      "text/plain": [
       "    id_invoice code_stock                               name  quantity  \\\n",
       "517     536409      21866        UNION JACK FLAG LUGGAGE TAG         1   \n",
       "527     536409      22866      HAND WARMER SCOTTY DOG DESIGN         1   \n",
       "537     536409      22900    SET 2 TEA TOWELS I LOVE LONDON          1   \n",
       "539     536409      22111       SCOTTIE DOG HOT WATER BOTTLE         1   \n",
       "555     536412      22327  ROUND SNACK BOXES SET OF 4 SKULLS         1   \n",
       "\n",
       "         invoice_date  price_per_unit  id_customer country  \n",
       "517  01-12-2010 11:45            1.25      17908.0      UK  \n",
       "527  01-12-2010 11:45            2.10      17908.0      UK  \n",
       "537  01-12-2010 11:45            2.95      17908.0      UK  \n",
       "539  01-12-2010 11:45            4.95      17908.0      UK  \n",
       "555  01-12-2010 11:49            2.95      17920.0      UK  "
      ]
     },
     "execution_count": 14,
     "metadata": {},
     "output_type": "execute_result"
    }
   ],
   "source": [
    "df[df.duplicated()].head(5)"
   ]
  },
  {
   "cell_type": "code",
   "execution_count": 15,
   "id": "442beb22-0820-497f-b64b-2d7493933a44",
   "metadata": {},
   "outputs": [],
   "source": [
    "# Lets drop duplicated records for better analysis\n",
    "df.drop_duplicates(inplace=True)"
   ]
  },
  {
   "cell_type": "markdown",
   "id": "90eef360-0afa-4532-b784-2f8a688deadd",
   "metadata": {},
   "source": [
    "### Null values"
   ]
  },
  {
   "cell_type": "code",
   "execution_count": 17,
   "id": "a7b65a8b-660d-412c-be83-0fbd90961eec",
   "metadata": {},
   "outputs": [
    {
     "data": {
      "text/plain": [
       "<Axes: >"
      ]
     },
     "execution_count": 17,
     "metadata": {},
     "output_type": "execute_result"
    },
    {
     "data": {
      "image/png": "[encoded data removed]",
      "text/plain": [
       "<Figure size 640x480 with 1 Axes>"
      ]
     },
     "metadata": {},
     "output_type": "display_data"
    }
   ],
   "source": [
    "sns.heatmap(df.isnull(), yticklabels = False, cbar = False, cmap=\"Blues\")"
   ]
  },
  {
   "cell_type": "code",
   "execution_count": 18,
   "id": "9a6f4cc0-2f7f-4af3-b529-5be2f0b8fde8",
   "metadata": {},
   "outputs": [
    {
     "data": {
      "text/html": [
       "<div>\n",
       "<style scoped>\n",
       "    .dataframe tbody tr th:only-of-type {\n",
       "        vertical-align: middle;\n",
       "    }\n",
       "\n",
       "    .dataframe tbody tr th {\n",
       "        vertical-align: top;\n",
       "    }\n",
       "\n",
       "    .dataframe thead th {\n",
       "        text-align: right;\n",
       "    }\n",
       "</style>\n",
       "<table border=\"1\" class=\"dataframe\">\n",
       "  <thead>\n",
       "    <tr style=\"text-align: right;\">\n",
       "      <th></th>\n",
       "      <th>id_invoice</th>\n",
       "      <th>code_stock</th>\n",
       "      <th>name</th>\n",
       "      <th>quantity</th>\n",
       "      <th>invoice_date</th>\n",
       "      <th>price_per_unit</th>\n",
       "      <th>id_customer</th>\n",
       "      <th>country</th>\n",
       "    </tr>\n",
       "  </thead>\n",
       "  <tbody>\n",
       "    <tr>\n",
       "      <th>515377</th>\n",
       "      <td>579777</td>\n",
       "      <td>21790</td>\n",
       "      <td>VINTAGE SNAP CARDS</td>\n",
       "      <td>10</td>\n",
       "      <td>30-11-2011 15:13</td>\n",
       "      <td>1.63</td>\n",
       "      <td>NaN</td>\n",
       "      <td>UK</td>\n",
       "    </tr>\n",
       "    <tr>\n",
       "      <th>204867</th>\n",
       "      <td>554694</td>\n",
       "      <td>82582</td>\n",
       "      <td>AREA PATROLLED METAL SIGN</td>\n",
       "      <td>1</td>\n",
       "      <td>25-05-2011 17:06</td>\n",
       "      <td>4.13</td>\n",
       "      <td>NaN</td>\n",
       "      <td>UK</td>\n",
       "    </tr>\n",
       "    <tr>\n",
       "      <th>324231</th>\n",
       "      <td>565396</td>\n",
       "      <td>22561</td>\n",
       "      <td>WOODEN SCHOOL COLOURING SET</td>\n",
       "      <td>1</td>\n",
       "      <td>02-09-2011 16:39</td>\n",
       "      <td>3.29</td>\n",
       "      <td>NaN</td>\n",
       "      <td>UK</td>\n",
       "    </tr>\n",
       "    <tr>\n",
       "      <th>235503</th>\n",
       "      <td>557641</td>\n",
       "      <td>22411</td>\n",
       "      <td>JUMBO SHOPPER VINTAGE RED PAISLEY</td>\n",
       "      <td>6</td>\n",
       "      <td>21-06-2011 16:35</td>\n",
       "      <td>4.13</td>\n",
       "      <td>NaN</td>\n",
       "      <td>UK</td>\n",
       "    </tr>\n",
       "    <tr>\n",
       "      <th>387091</th>\n",
       "      <td>570258</td>\n",
       "      <td>82484</td>\n",
       "      <td>WOOD BLACK BOARD ANT WHITE FINISH</td>\n",
       "      <td>1</td>\n",
       "      <td>10-10-2011 09:56</td>\n",
       "      <td>16.63</td>\n",
       "      <td>NaN</td>\n",
       "      <td>UK</td>\n",
       "    </tr>\n",
       "  </tbody>\n",
       "</table>\n",
       "</div>"
      ],
      "text/plain": [
       "       id_invoice code_stock                               name  quantity  \\\n",
       "515377     579777      21790                 VINTAGE SNAP CARDS        10   \n",
       "204867     554694      82582          AREA PATROLLED METAL SIGN         1   \n",
       "324231     565396      22561        WOODEN SCHOOL COLOURING SET         1   \n",
       "235503     557641      22411  JUMBO SHOPPER VINTAGE RED PAISLEY         6   \n",
       "387091     570258      82484  WOOD BLACK BOARD ANT WHITE FINISH         1   \n",
       "\n",
       "            invoice_date  price_per_unit  id_customer country  \n",
       "515377  30-11-2011 15:13            1.63          NaN      UK  \n",
       "204867  25-05-2011 17:06            4.13          NaN      UK  \n",
       "324231  02-09-2011 16:39            3.29          NaN      UK  \n",
       "235503  21-06-2011 16:35            4.13          NaN      UK  \n",
       "387091  10-10-2011 09:56           16.63          NaN      UK  "
      ]
     },
     "execution_count": 18,
     "metadata": {},
     "output_type": "execute_result"
    }
   ],
   "source": [
    "# let see null values in id_customer\n",
    "df[df['id_customer'].isna()].sample(5)"
   ]
  },
  {
   "cell_type": "code",
   "execution_count": 19,
   "id": "51a9e60b-a92e-41b8-8666-b10b80e85b02",
   "metadata": {},
   "outputs": [
    {
     "data": {
      "text/html": [
       "<div>\n",
       "<style scoped>\n",
       "    .dataframe tbody tr th:only-of-type {\n",
       "        vertical-align: middle;\n",
       "    }\n",
       "\n",
       "    .dataframe tbody tr th {\n",
       "        vertical-align: top;\n",
       "    }\n",
       "\n",
       "    .dataframe thead th {\n",
       "        text-align: right;\n",
       "    }\n",
       "</style>\n",
       "<table border=\"1\" class=\"dataframe\">\n",
       "  <thead>\n",
       "    <tr style=\"text-align: right;\">\n",
       "      <th></th>\n",
       "      <th>id_invoice</th>\n",
       "      <th>code_stock</th>\n",
       "      <th>name</th>\n",
       "      <th>quantity</th>\n",
       "      <th>invoice_date</th>\n",
       "      <th>price_per_unit</th>\n",
       "      <th>id_customer</th>\n",
       "      <th>country</th>\n",
       "    </tr>\n",
       "  </thead>\n",
       "  <tbody>\n",
       "    <tr>\n",
       "      <th>0</th>\n",
       "      <td>536365</td>\n",
       "      <td>85123A</td>\n",
       "      <td>WHITE HANGING HEART T-LIGHT HOLDER</td>\n",
       "      <td>6</td>\n",
       "      <td>01-12-2010 08:26</td>\n",
       "      <td>2.55</td>\n",
       "      <td>17850</td>\n",
       "      <td>UK</td>\n",
       "    </tr>\n",
       "    <tr>\n",
       "      <th>1</th>\n",
       "      <td>536365</td>\n",
       "      <td>71053</td>\n",
       "      <td>WHITE METAL LANTERN</td>\n",
       "      <td>6</td>\n",
       "      <td>01-12-2010 08:26</td>\n",
       "      <td>3.39</td>\n",
       "      <td>17850</td>\n",
       "      <td>UK</td>\n",
       "    </tr>\n",
       "    <tr>\n",
       "      <th>2</th>\n",
       "      <td>536365</td>\n",
       "      <td>84406B</td>\n",
       "      <td>CREAM CUPID HEARTS COAT HANGER</td>\n",
       "      <td>8</td>\n",
       "      <td>01-12-2010 08:26</td>\n",
       "      <td>2.75</td>\n",
       "      <td>17850</td>\n",
       "      <td>UK</td>\n",
       "    </tr>\n",
       "    <tr>\n",
       "      <th>3</th>\n",
       "      <td>536365</td>\n",
       "      <td>84029G</td>\n",
       "      <td>KNITTED UNION FLAG HOT WATER BOTTLE</td>\n",
       "      <td>6</td>\n",
       "      <td>01-12-2010 08:26</td>\n",
       "      <td>3.39</td>\n",
       "      <td>17850</td>\n",
       "      <td>UK</td>\n",
       "    </tr>\n",
       "    <tr>\n",
       "      <th>4</th>\n",
       "      <td>536365</td>\n",
       "      <td>84029E</td>\n",
       "      <td>RED WOOLLY HOTTIE WHITE HEART.</td>\n",
       "      <td>6</td>\n",
       "      <td>01-12-2010 08:26</td>\n",
       "      <td>3.39</td>\n",
       "      <td>17850</td>\n",
       "      <td>UK</td>\n",
       "    </tr>\n",
       "    <tr>\n",
       "      <th>...</th>\n",
       "      <td>...</td>\n",
       "      <td>...</td>\n",
       "      <td>...</td>\n",
       "      <td>...</td>\n",
       "      <td>...</td>\n",
       "      <td>...</td>\n",
       "      <td>...</td>\n",
       "      <td>...</td>\n",
       "    </tr>\n",
       "    <tr>\n",
       "      <th>541904</th>\n",
       "      <td>581587</td>\n",
       "      <td>22613</td>\n",
       "      <td>PACK OF 20 SPACEBOY NAPKINS</td>\n",
       "      <td>12</td>\n",
       "      <td>09-12-2011 12:50</td>\n",
       "      <td>0.85</td>\n",
       "      <td>12680</td>\n",
       "      <td>France</td>\n",
       "    </tr>\n",
       "    <tr>\n",
       "      <th>541905</th>\n",
       "      <td>581587</td>\n",
       "      <td>22899</td>\n",
       "      <td>CHILDREN'S APRON DOLLY GIRL</td>\n",
       "      <td>6</td>\n",
       "      <td>09-12-2011 12:50</td>\n",
       "      <td>2.10</td>\n",
       "      <td>12680</td>\n",
       "      <td>France</td>\n",
       "    </tr>\n",
       "    <tr>\n",
       "      <th>541906</th>\n",
       "      <td>581587</td>\n",
       "      <td>23254</td>\n",
       "      <td>CHILDRENS CUTLERY DOLLY GIRL</td>\n",
       "      <td>4</td>\n",
       "      <td>09-12-2011 12:50</td>\n",
       "      <td>4.15</td>\n",
       "      <td>12680</td>\n",
       "      <td>France</td>\n",
       "    </tr>\n",
       "    <tr>\n",
       "      <th>541907</th>\n",
       "      <td>581587</td>\n",
       "      <td>23255</td>\n",
       "      <td>CHILDRENS CUTLERY CIRCUS PARADE</td>\n",
       "      <td>4</td>\n",
       "      <td>09-12-2011 12:50</td>\n",
       "      <td>4.15</td>\n",
       "      <td>12680</td>\n",
       "      <td>France</td>\n",
       "    </tr>\n",
       "    <tr>\n",
       "      <th>541908</th>\n",
       "      <td>581587</td>\n",
       "      <td>22138</td>\n",
       "      <td>BAKING SET 9 PIECE RETROSPOT</td>\n",
       "      <td>3</td>\n",
       "      <td>09-12-2011 12:50</td>\n",
       "      <td>4.95</td>\n",
       "      <td>12680</td>\n",
       "      <td>France</td>\n",
       "    </tr>\n",
       "  </tbody>\n",
       "</table>\n",
       "<p>536641 rows × 8 columns</p>\n",
       "</div>"
      ],
      "text/plain": [
       "       id_invoice code_stock                                 name  quantity  \\\n",
       "0          536365     85123A   WHITE HANGING HEART T-LIGHT HOLDER         6   \n",
       "1          536365      71053                  WHITE METAL LANTERN         6   \n",
       "2          536365     84406B       CREAM CUPID HEARTS COAT HANGER         8   \n",
       "3          536365     84029G  KNITTED UNION FLAG HOT WATER BOTTLE         6   \n",
       "4          536365     84029E       RED WOOLLY HOTTIE WHITE HEART.         6   \n",
       "...           ...        ...                                  ...       ...   \n",
       "541904     581587      22613          PACK OF 20 SPACEBOY NAPKINS        12   \n",
       "541905     581587      22899         CHILDREN'S APRON DOLLY GIRL          6   \n",
       "541906     581587      23254        CHILDRENS CUTLERY DOLLY GIRL          4   \n",
       "541907     581587      23255      CHILDRENS CUTLERY CIRCUS PARADE         4   \n",
       "541908     581587      22138        BAKING SET 9 PIECE RETROSPOT          3   \n",
       "\n",
       "            invoice_date  price_per_unit id_customer country  \n",
       "0       01-12-2010 08:26            2.55       17850      UK  \n",
       "1       01-12-2010 08:26            3.39       17850      UK  \n",
       "2       01-12-2010 08:26            2.75       17850      UK  \n",
       "3       01-12-2010 08:26            3.39       17850      UK  \n",
       "4       01-12-2010 08:26            3.39       17850      UK  \n",
       "...                  ...             ...         ...     ...  \n",
       "541904  09-12-2011 12:50            0.85       12680  France  \n",
       "541905  09-12-2011 12:50            2.10       12680  France  \n",
       "541906  09-12-2011 12:50            4.15       12680  France  \n",
       "541907  09-12-2011 12:50            4.15       12680  France  \n",
       "541908  09-12-2011 12:50            4.95       12680  France  \n",
       "\n",
       "[536641 rows x 8 columns]"
      ]
     },
     "execution_count": 19,
     "metadata": {},
     "output_type": "execute_result"
    }
   ],
   "source": [
    "# id_customer to object\n",
    "df['id_customer'] = df['id_customer'].astype('Int64').astype('object')\n",
    "df"
   ]
  },
  {
   "cell_type": "code",
   "execution_count": 20,
   "id": "4cf25b63-263f-4152-801a-108d9cda6a44",
   "metadata": {},
   "outputs": [
    {
     "data": {
      "text/html": [
       "<div>\n",
       "<style scoped>\n",
       "    .dataframe tbody tr th:only-of-type {\n",
       "        vertical-align: middle;\n",
       "    }\n",
       "\n",
       "    .dataframe tbody tr th {\n",
       "        vertical-align: top;\n",
       "    }\n",
       "\n",
       "    .dataframe thead th {\n",
       "        text-align: right;\n",
       "    }\n",
       "</style>\n",
       "<table border=\"1\" class=\"dataframe\">\n",
       "  <thead>\n",
       "    <tr style=\"text-align: right;\">\n",
       "      <th></th>\n",
       "      <th>id_invoice</th>\n",
       "      <th>code_stock</th>\n",
       "      <th>name</th>\n",
       "      <th>quantity</th>\n",
       "      <th>invoice_date</th>\n",
       "      <th>price_per_unit</th>\n",
       "      <th>id_customer</th>\n",
       "      <th>country</th>\n",
       "    </tr>\n",
       "  </thead>\n",
       "  <tbody>\n",
       "    <tr>\n",
       "      <th>0</th>\n",
       "      <td>536365</td>\n",
       "      <td>85123A</td>\n",
       "      <td>WHITE HANGING HEART T-LIGHT HOLDER</td>\n",
       "      <td>6</td>\n",
       "      <td>01-12-2010 08:26</td>\n",
       "      <td>2.55</td>\n",
       "      <td>17850</td>\n",
       "      <td>UK</td>\n",
       "    </tr>\n",
       "    <tr>\n",
       "      <th>1</th>\n",
       "      <td>536365</td>\n",
       "      <td>71053</td>\n",
       "      <td>WHITE METAL LANTERN</td>\n",
       "      <td>6</td>\n",
       "      <td>01-12-2010 08:26</td>\n",
       "      <td>3.39</td>\n",
       "      <td>17850</td>\n",
       "      <td>UK</td>\n",
       "    </tr>\n",
       "    <tr>\n",
       "      <th>2</th>\n",
       "      <td>536365</td>\n",
       "      <td>84406B</td>\n",
       "      <td>CREAM CUPID HEARTS COAT HANGER</td>\n",
       "      <td>8</td>\n",
       "      <td>01-12-2010 08:26</td>\n",
       "      <td>2.75</td>\n",
       "      <td>17850</td>\n",
       "      <td>UK</td>\n",
       "    </tr>\n",
       "    <tr>\n",
       "      <th>3</th>\n",
       "      <td>536365</td>\n",
       "      <td>84029G</td>\n",
       "      <td>KNITTED UNION FLAG HOT WATER BOTTLE</td>\n",
       "      <td>6</td>\n",
       "      <td>01-12-2010 08:26</td>\n",
       "      <td>3.39</td>\n",
       "      <td>17850</td>\n",
       "      <td>UK</td>\n",
       "    </tr>\n",
       "    <tr>\n",
       "      <th>4</th>\n",
       "      <td>536365</td>\n",
       "      <td>84029E</td>\n",
       "      <td>RED WOOLLY HOTTIE WHITE HEART.</td>\n",
       "      <td>6</td>\n",
       "      <td>01-12-2010 08:26</td>\n",
       "      <td>3.39</td>\n",
       "      <td>17850</td>\n",
       "      <td>UK</td>\n",
       "    </tr>\n",
       "  </tbody>\n",
       "</table>\n",
       "</div>"
      ],
      "text/plain": [
       "  id_invoice code_stock                                 name  quantity  \\\n",
       "0     536365     85123A   WHITE HANGING HEART T-LIGHT HOLDER         6   \n",
       "1     536365      71053                  WHITE METAL LANTERN         6   \n",
       "2     536365     84406B       CREAM CUPID HEARTS COAT HANGER         8   \n",
       "3     536365     84029G  KNITTED UNION FLAG HOT WATER BOTTLE         6   \n",
       "4     536365     84029E       RED WOOLLY HOTTIE WHITE HEART.         6   \n",
       "\n",
       "       invoice_date  price_per_unit id_customer country  \n",
       "0  01-12-2010 08:26            2.55       17850      UK  \n",
       "1  01-12-2010 08:26            3.39       17850      UK  \n",
       "2  01-12-2010 08:26            2.75       17850      UK  \n",
       "3  01-12-2010 08:26            3.39       17850      UK  \n",
       "4  01-12-2010 08:26            3.39       17850      UK  "
      ]
     },
     "execution_count": 20,
     "metadata": {},
     "output_type": "execute_result"
    }
   ],
   "source": [
    "# id_customer drop null values\n",
    "df.dropna(subset=['id_customer'], inplace=True)\n",
    "df.head()"
   ]
  },
  {
   "cell_type": "code",
   "execution_count": 21,
   "id": "31b35c39-2bac-43c9-bd4e-e6523864cf30",
   "metadata": {},
   "outputs": [],
   "source": [
    "# id_customer null values to \"unknown\"\n",
    "# df['id_customer'] = df['id_customer'].fillna('Unknown')\n",
    "# df.head(2)"
   ]
  },
  {
   "cell_type": "markdown",
   "id": "2c7ad842-df1f-4b38-8b35-e71bd816a5c8",
   "metadata": {},
   "source": [
    "### Negative values"
   ]
  },
  {
   "cell_type": "code",
   "execution_count": 23,
   "id": "df4fd5ea-d2a9-4c9a-9df2-6f49dd05b5e2",
   "metadata": {},
   "outputs": [
    {
     "data": {
      "text/plain": [
       "8872"
      ]
     },
     "execution_count": 23,
     "metadata": {},
     "output_type": "execute_result"
    }
   ],
   "source": [
    "# Lets check how many negative values exist in 'quantity'\n",
    "(df['quantity'] < 0).sum()"
   ]
  },
  {
   "cell_type": "code",
   "execution_count": 24,
   "id": "b03c3f46-43a3-4ac7-8103-38da81ce3728",
   "metadata": {},
   "outputs": [
    {
     "data": {
      "text/html": [
       "<div>\n",
       "<style scoped>\n",
       "    .dataframe tbody tr th:only-of-type {\n",
       "        vertical-align: middle;\n",
       "    }\n",
       "\n",
       "    .dataframe tbody tr th {\n",
       "        vertical-align: top;\n",
       "    }\n",
       "\n",
       "    .dataframe thead th {\n",
       "        text-align: right;\n",
       "    }\n",
       "</style>\n",
       "<table border=\"1\" class=\"dataframe\">\n",
       "  <thead>\n",
       "    <tr style=\"text-align: right;\">\n",
       "      <th></th>\n",
       "      <th>id_invoice</th>\n",
       "      <th>code_stock</th>\n",
       "      <th>name</th>\n",
       "      <th>quantity</th>\n",
       "      <th>invoice_date</th>\n",
       "      <th>price_per_unit</th>\n",
       "      <th>id_customer</th>\n",
       "      <th>country</th>\n",
       "    </tr>\n",
       "  </thead>\n",
       "  <tbody>\n",
       "    <tr>\n",
       "      <th>141</th>\n",
       "      <td>C536379</td>\n",
       "      <td>D</td>\n",
       "      <td>Discount</td>\n",
       "      <td>-1</td>\n",
       "      <td>01-12-2010 09:41</td>\n",
       "      <td>27.50</td>\n",
       "      <td>14527</td>\n",
       "      <td>UK</td>\n",
       "    </tr>\n",
       "    <tr>\n",
       "      <th>154</th>\n",
       "      <td>C536383</td>\n",
       "      <td>35004C</td>\n",
       "      <td>SET OF 3 COLOURED  FLYING DUCKS</td>\n",
       "      <td>-1</td>\n",
       "      <td>01-12-2010 09:49</td>\n",
       "      <td>4.65</td>\n",
       "      <td>15311</td>\n",
       "      <td>UK</td>\n",
       "    </tr>\n",
       "    <tr>\n",
       "      <th>235</th>\n",
       "      <td>C536391</td>\n",
       "      <td>22556</td>\n",
       "      <td>PLASTERS IN TIN CIRCUS PARADE</td>\n",
       "      <td>-12</td>\n",
       "      <td>01-12-2010 10:24</td>\n",
       "      <td>1.65</td>\n",
       "      <td>17548</td>\n",
       "      <td>UK</td>\n",
       "    </tr>\n",
       "    <tr>\n",
       "      <th>236</th>\n",
       "      <td>C536391</td>\n",
       "      <td>21984</td>\n",
       "      <td>PACK OF 12 PINK PAISLEY TISSUES</td>\n",
       "      <td>-24</td>\n",
       "      <td>01-12-2010 10:24</td>\n",
       "      <td>0.29</td>\n",
       "      <td>17548</td>\n",
       "      <td>UK</td>\n",
       "    </tr>\n",
       "    <tr>\n",
       "      <th>237</th>\n",
       "      <td>C536391</td>\n",
       "      <td>21983</td>\n",
       "      <td>PACK OF 12 BLUE PAISLEY TISSUES</td>\n",
       "      <td>-24</td>\n",
       "      <td>01-12-2010 10:24</td>\n",
       "      <td>0.29</td>\n",
       "      <td>17548</td>\n",
       "      <td>UK</td>\n",
       "    </tr>\n",
       "  </tbody>\n",
       "</table>\n",
       "</div>"
      ],
      "text/plain": [
       "    id_invoice code_stock                              name  quantity  \\\n",
       "141    C536379          D                          Discount        -1   \n",
       "154    C536383     35004C   SET OF 3 COLOURED  FLYING DUCKS        -1   \n",
       "235    C536391      22556    PLASTERS IN TIN CIRCUS PARADE        -12   \n",
       "236    C536391      21984  PACK OF 12 PINK PAISLEY TISSUES        -24   \n",
       "237    C536391      21983  PACK OF 12 BLUE PAISLEY TISSUES        -24   \n",
       "\n",
       "         invoice_date  price_per_unit id_customer country  \n",
       "141  01-12-2010 09:41           27.50       14527      UK  \n",
       "154  01-12-2010 09:49            4.65       15311      UK  \n",
       "235  01-12-2010 10:24            1.65       17548      UK  \n",
       "236  01-12-2010 10:24            0.29       17548      UK  \n",
       "237  01-12-2010 10:24            0.29       17548      UK  "
      ]
     },
     "execution_count": 24,
     "metadata": {},
     "output_type": "execute_result"
    }
   ],
   "source": [
    "df[df['quantity'] < 0].head()\n",
    "# we keep negative values for future analysis"
   ]
  },
  {
   "cell_type": "code",
   "execution_count": 25,
   "id": "2b2ae700-7e5f-4628-b590-34e88a2b4f3a",
   "metadata": {},
   "outputs": [
    {
     "data": {
      "text/plain": [
       "0"
      ]
     },
     "execution_count": 25,
     "metadata": {},
     "output_type": "execute_result"
    }
   ],
   "source": [
    "# Lets check how many negative values exist in 'price_per_unit'\n",
    "(df['price_per_unit'] < 0).sum()"
   ]
  },
  {
   "cell_type": "code",
   "execution_count": 26,
   "id": "819cf999-28af-451d-aa6a-b2d82aef11b2",
   "metadata": {},
   "outputs": [
    {
     "data": {
      "text/html": [
       "<div>\n",
       "<style scoped>\n",
       "    .dataframe tbody tr th:only-of-type {\n",
       "        vertical-align: middle;\n",
       "    }\n",
       "\n",
       "    .dataframe tbody tr th {\n",
       "        vertical-align: top;\n",
       "    }\n",
       "\n",
       "    .dataframe thead th {\n",
       "        text-align: right;\n",
       "    }\n",
       "</style>\n",
       "<table border=\"1\" class=\"dataframe\">\n",
       "  <thead>\n",
       "    <tr style=\"text-align: right;\">\n",
       "      <th></th>\n",
       "      <th>id_invoice</th>\n",
       "      <th>code_stock</th>\n",
       "      <th>name</th>\n",
       "      <th>quantity</th>\n",
       "      <th>invoice_date</th>\n",
       "      <th>price_per_unit</th>\n",
       "      <th>id_customer</th>\n",
       "      <th>country</th>\n",
       "    </tr>\n",
       "  </thead>\n",
       "  <tbody>\n",
       "  </tbody>\n",
       "</table>\n",
       "</div>"
      ],
      "text/plain": [
       "Empty DataFrame\n",
       "Columns: [id_invoice, code_stock, name, quantity, invoice_date, price_per_unit, id_customer, country]\n",
       "Index: []"
      ]
     },
     "execution_count": 26,
     "metadata": {},
     "output_type": "execute_result"
    }
   ],
   "source": [
    "df[df['price_per_unit'] < 0].head()"
   ]
  },
  {
   "cell_type": "code",
   "execution_count": 27,
   "id": "caf48f1c-f0aa-4165-a664-5d141c8b8684",
   "metadata": {},
   "outputs": [],
   "source": [
    "# Drop two negative values in price_per_unit\n",
    "df = df[df['price_per_unit'] >= 0]"
   ]
  },
  {
   "cell_type": "code",
   "execution_count": 28,
   "id": "0b9de197-9558-431f-89e5-d3523f1803c4",
   "metadata": {},
   "outputs": [
    {
     "data": {
      "text/html": [
       "<div>\n",
       "<style scoped>\n",
       "    .dataframe tbody tr th:only-of-type {\n",
       "        vertical-align: middle;\n",
       "    }\n",
       "\n",
       "    .dataframe tbody tr th {\n",
       "        vertical-align: top;\n",
       "    }\n",
       "\n",
       "    .dataframe thead th {\n",
       "        text-align: right;\n",
       "    }\n",
       "</style>\n",
       "<table border=\"1\" class=\"dataframe\">\n",
       "  <thead>\n",
       "    <tr style=\"text-align: right;\">\n",
       "      <th></th>\n",
       "      <th>quantity</th>\n",
       "      <th>price_per_unit</th>\n",
       "    </tr>\n",
       "  </thead>\n",
       "  <tbody>\n",
       "    <tr>\n",
       "      <th>count</th>\n",
       "      <td>401604.000000</td>\n",
       "      <td>401604.000000</td>\n",
       "    </tr>\n",
       "    <tr>\n",
       "      <th>mean</th>\n",
       "      <td>12.183273</td>\n",
       "      <td>3.474064</td>\n",
       "    </tr>\n",
       "    <tr>\n",
       "      <th>std</th>\n",
       "      <td>250.283037</td>\n",
       "      <td>69.764035</td>\n",
       "    </tr>\n",
       "    <tr>\n",
       "      <th>min</th>\n",
       "      <td>-80995.000000</td>\n",
       "      <td>0.000000</td>\n",
       "    </tr>\n",
       "    <tr>\n",
       "      <th>25%</th>\n",
       "      <td>2.000000</td>\n",
       "      <td>1.250000</td>\n",
       "    </tr>\n",
       "    <tr>\n",
       "      <th>50%</th>\n",
       "      <td>5.000000</td>\n",
       "      <td>1.950000</td>\n",
       "    </tr>\n",
       "    <tr>\n",
       "      <th>75%</th>\n",
       "      <td>12.000000</td>\n",
       "      <td>3.750000</td>\n",
       "    </tr>\n",
       "    <tr>\n",
       "      <th>max</th>\n",
       "      <td>80995.000000</td>\n",
       "      <td>38970.000000</td>\n",
       "    </tr>\n",
       "  </tbody>\n",
       "</table>\n",
       "</div>"
      ],
      "text/plain": [
       "            quantity  price_per_unit\n",
       "count  401604.000000   401604.000000\n",
       "mean       12.183273        3.474064\n",
       "std       250.283037       69.764035\n",
       "min    -80995.000000        0.000000\n",
       "25%         2.000000        1.250000\n",
       "50%         5.000000        1.950000\n",
       "75%        12.000000        3.750000\n",
       "max     80995.000000    38970.000000"
      ]
     },
     "execution_count": 28,
     "metadata": {},
     "output_type": "execute_result"
    }
   ],
   "source": [
    "df.describe()"
   ]
  },
  {
   "cell_type": "markdown",
   "id": "2b3947bc-2377-4830-be6d-cb41e0c3436c",
   "metadata": {},
   "source": [
    "### Outliers distribution"
   ]
  },
  {
   "cell_type": "code",
   "execution_count": 30,
   "id": "924be618-252e-4502-b42f-303b6b9a21b4",
   "metadata": {},
   "outputs": [
    {
     "data": {
      "image/png": "[encoded data removed]",
      "text/plain": [
       "<Figure size 640x480 with 1 Axes>"
      ]
     },
     "metadata": {},
     "output_type": "display_data"
    },
    {
     "data": {
      "image/png": "[encoded data removed]",
      "text/plain": [
       "<Figure size 640x480 with 1 Axes>"
      ]
     },
     "metadata": {},
     "output_type": "display_data"
    }
   ],
   "source": [
    "import seaborn as sns\n",
    "import matplotlib.pyplot as plt\n",
    "\n",
    "# Boxplot for 'quantity'\n",
    "sns.boxplot(x=df['quantity'])\n",
    "plt.title('Boxplot Quantity')\n",
    "plt.show()\n",
    "\n",
    "# Boxplot for 'price_per_unit'\n",
    "sns.boxplot(x=df['price_per_unit'])\n",
    "plt.title('Boxplot Price per Unit')\n",
    "plt.show()"
   ]
  },
  {
   "cell_type": "code",
   "execution_count": 31,
   "id": "8c9b10d3-72ec-4961-8593-503097e06258",
   "metadata": {},
   "outputs": [
    {
     "data": {
      "text/html": [
       "<div>\n",
       "<style scoped>\n",
       "    .dataframe tbody tr th:only-of-type {\n",
       "        vertical-align: middle;\n",
       "    }\n",
       "\n",
       "    .dataframe tbody tr th {\n",
       "        vertical-align: top;\n",
       "    }\n",
       "\n",
       "    .dataframe thead th {\n",
       "        text-align: right;\n",
       "    }\n",
       "</style>\n",
       "<table border=\"1\" class=\"dataframe\">\n",
       "  <thead>\n",
       "    <tr style=\"text-align: right;\">\n",
       "      <th></th>\n",
       "      <th>id_invoice</th>\n",
       "      <th>code_stock</th>\n",
       "      <th>name</th>\n",
       "      <th>quantity</th>\n",
       "      <th>invoice_date</th>\n",
       "      <th>price_per_unit</th>\n",
       "      <th>id_customer</th>\n",
       "      <th>country</th>\n",
       "    </tr>\n",
       "  </thead>\n",
       "  <tbody>\n",
       "    <tr>\n",
       "      <th>222681</th>\n",
       "      <td>C556445</td>\n",
       "      <td>M</td>\n",
       "      <td>Manual</td>\n",
       "      <td>-1</td>\n",
       "      <td>10-06-2011 15:31</td>\n",
       "      <td>38970.0</td>\n",
       "      <td>15098</td>\n",
       "      <td>UK</td>\n",
       "    </tr>\n",
       "  </tbody>\n",
       "</table>\n",
       "</div>"
      ],
      "text/plain": [
       "       id_invoice code_stock    name  quantity      invoice_date  \\\n",
       "222681    C556445          M  Manual        -1  10-06-2011 15:31   \n",
       "\n",
       "        price_per_unit id_customer country  \n",
       "222681         38970.0       15098      UK  "
      ]
     },
     "execution_count": 31,
     "metadata": {},
     "output_type": "execute_result"
    }
   ],
   "source": [
    "# Lets see theese outliers\n",
    "df[df['price_per_unit'] > 25000].head()\n",
    "# quantity is negative here"
   ]
  },
  {
   "cell_type": "code",
   "execution_count": 32,
   "id": "dac03b65-5d67-4505-802b-81d312439d68",
   "metadata": {},
   "outputs": [
    {
     "data": {
      "text/html": [
       "<div>\n",
       "<style scoped>\n",
       "    .dataframe tbody tr th:only-of-type {\n",
       "        vertical-align: middle;\n",
       "    }\n",
       "\n",
       "    .dataframe tbody tr th {\n",
       "        vertical-align: top;\n",
       "    }\n",
       "\n",
       "    .dataframe thead th {\n",
       "        text-align: right;\n",
       "    }\n",
       "</style>\n",
       "<table border=\"1\" class=\"dataframe\">\n",
       "  <thead>\n",
       "    <tr style=\"text-align: right;\">\n",
       "      <th></th>\n",
       "      <th>id_invoice</th>\n",
       "      <th>code_stock</th>\n",
       "      <th>name</th>\n",
       "      <th>quantity</th>\n",
       "      <th>invoice_date</th>\n",
       "      <th>price_per_unit</th>\n",
       "      <th>id_customer</th>\n",
       "      <th>country</th>\n",
       "    </tr>\n",
       "  </thead>\n",
       "  <tbody>\n",
       "    <tr>\n",
       "      <th>61619</th>\n",
       "      <td>541431</td>\n",
       "      <td>23166</td>\n",
       "      <td>MEDIUM CERAMIC TOP STORAGE JAR</td>\n",
       "      <td>74215</td>\n",
       "      <td>18-01-2011 10:01</td>\n",
       "      <td>1.04</td>\n",
       "      <td>12346</td>\n",
       "      <td>UK</td>\n",
       "    </tr>\n",
       "    <tr>\n",
       "      <th>540421</th>\n",
       "      <td>581483</td>\n",
       "      <td>23843</td>\n",
       "      <td>PAPER CRAFT , LITTLE BIRDIE</td>\n",
       "      <td>80995</td>\n",
       "      <td>09-12-2011 09:15</td>\n",
       "      <td>2.08</td>\n",
       "      <td>16446</td>\n",
       "      <td>UK</td>\n",
       "    </tr>\n",
       "  </tbody>\n",
       "</table>\n",
       "</div>"
      ],
      "text/plain": [
       "       id_invoice code_stock                            name  quantity  \\\n",
       "61619      541431      23166  MEDIUM CERAMIC TOP STORAGE JAR     74215   \n",
       "540421     581483      23843     PAPER CRAFT , LITTLE BIRDIE     80995   \n",
       "\n",
       "            invoice_date  price_per_unit id_customer country  \n",
       "61619   18-01-2011 10:01            1.04       12346      UK  \n",
       "540421  09-12-2011 09:15            2.08       16446      UK  "
      ]
     },
     "execution_count": 32,
     "metadata": {},
     "output_type": "execute_result"
    }
   ],
   "source": [
    "df[df['quantity'] > 60000].head()"
   ]
  },
  {
   "cell_type": "code",
   "execution_count": 33,
   "id": "3d301652-dda8-4574-9e44-62fc86dad6c1",
   "metadata": {},
   "outputs": [
    {
     "data": {
      "text/html": [
       "<div>\n",
       "<style scoped>\n",
       "    .dataframe tbody tr th:only-of-type {\n",
       "        vertical-align: middle;\n",
       "    }\n",
       "\n",
       "    .dataframe tbody tr th {\n",
       "        vertical-align: top;\n",
       "    }\n",
       "\n",
       "    .dataframe thead th {\n",
       "        text-align: right;\n",
       "    }\n",
       "</style>\n",
       "<table border=\"1\" class=\"dataframe\">\n",
       "  <thead>\n",
       "    <tr style=\"text-align: right;\">\n",
       "      <th></th>\n",
       "      <th>id_invoice</th>\n",
       "      <th>code_stock</th>\n",
       "      <th>name</th>\n",
       "      <th>quantity</th>\n",
       "      <th>invoice_date</th>\n",
       "      <th>price_per_unit</th>\n",
       "      <th>id_customer</th>\n",
       "      <th>country</th>\n",
       "    </tr>\n",
       "  </thead>\n",
       "  <tbody>\n",
       "    <tr>\n",
       "      <th>61624</th>\n",
       "      <td>C541433</td>\n",
       "      <td>23166</td>\n",
       "      <td>MEDIUM CERAMIC TOP STORAGE JAR</td>\n",
       "      <td>-74215</td>\n",
       "      <td>18-01-2011 10:17</td>\n",
       "      <td>1.04</td>\n",
       "      <td>12346</td>\n",
       "      <td>UK</td>\n",
       "    </tr>\n",
       "    <tr>\n",
       "      <th>540422</th>\n",
       "      <td>C581484</td>\n",
       "      <td>23843</td>\n",
       "      <td>PAPER CRAFT , LITTLE BIRDIE</td>\n",
       "      <td>-80995</td>\n",
       "      <td>09-12-2011 09:27</td>\n",
       "      <td>2.08</td>\n",
       "      <td>16446</td>\n",
       "      <td>UK</td>\n",
       "    </tr>\n",
       "  </tbody>\n",
       "</table>\n",
       "</div>"
      ],
      "text/plain": [
       "       id_invoice code_stock                            name  quantity  \\\n",
       "61624     C541433      23166  MEDIUM CERAMIC TOP STORAGE JAR    -74215   \n",
       "540422    C581484      23843     PAPER CRAFT , LITTLE BIRDIE    -80995   \n",
       "\n",
       "            invoice_date  price_per_unit id_customer country  \n",
       "61624   18-01-2011 10:17            1.04       12346      UK  \n",
       "540422  09-12-2011 09:27            2.08       16446      UK  "
      ]
     },
     "execution_count": 33,
     "metadata": {},
     "output_type": "execute_result"
    }
   ],
   "source": [
    "df[df['quantity'] < -60000].head()"
   ]
  },
  {
   "cell_type": "markdown",
   "id": "7e7eda1d-8a8d-4aa4-b796-5e94ccae6224",
   "metadata": {},
   "source": [
    "### Drop outliers"
   ]
  },
  {
   "cell_type": "code",
   "execution_count": 35,
   "id": "fe9378a2-e914-4c1b-9ab6-d54c73f5ef9b",
   "metadata": {},
   "outputs": [],
   "source": [
    "# DROP OUTLIERS BECAUSE ANALYSIS WILL BE AFFECTED\n",
    "df = df[(df['quantity'] > -60000) & (df['quantity'] < 60000) & (df['price_per_unit'] < 25000)]"
   ]
  },
  {
   "cell_type": "code",
   "execution_count": 36,
   "id": "42d9471f-0197-4471-ae5c-6c20899e9976",
   "metadata": {},
   "outputs": [
    {
     "data": {
      "image/png": "[encoded data removed]",
      "text/plain": [
       "<Figure size 640x480 with 1 Axes>"
      ]
     },
     "metadata": {},
     "output_type": "display_data"
    },
    {
     "data": {
      "image/png": "[encoded data removed]",
      "text/plain": [
       "<Figure size 640x480 with 1 Axes>"
      ]
     },
     "metadata": {},
     "output_type": "display_data"
    }
   ],
   "source": [
    "# Boxplot for 'quantity'\n",
    "sns.boxplot(x=df['quantity'])\n",
    "plt.title('Boxplot Quantity')\n",
    "plt.show()\n",
    "\n",
    "# Boxplot for 'price_per_unit'\n",
    "sns.boxplot(x=df['price_per_unit'])\n",
    "plt.title('Boxplot Price per Unit')\n",
    "plt.show()"
   ]
  },
  {
   "cell_type": "markdown",
   "id": "738a36a4-9489-4900-b98c-39a6aa70f07a",
   "metadata": {
    "jp-MarkdownHeadingCollapsed": true
   },
   "source": [
    "### invoice_date format revision"
   ]
  },
  {
   "cell_type": "code",
   "execution_count": 38,
   "id": "5b61e139-3541-45d8-99cc-dff83a8d37e1",
   "metadata": {},
   "outputs": [
    {
     "data": {
      "text/html": [
       "<div>\n",
       "<style scoped>\n",
       "    .dataframe tbody tr th:only-of-type {\n",
       "        vertical-align: middle;\n",
       "    }\n",
       "\n",
       "    .dataframe tbody tr th {\n",
       "        vertical-align: top;\n",
       "    }\n",
       "\n",
       "    .dataframe thead th {\n",
       "        text-align: right;\n",
       "    }\n",
       "</style>\n",
       "<table border=\"1\" class=\"dataframe\">\n",
       "  <thead>\n",
       "    <tr style=\"text-align: right;\">\n",
       "      <th></th>\n",
       "      <th>id_invoice</th>\n",
       "      <th>code_stock</th>\n",
       "      <th>name</th>\n",
       "      <th>quantity</th>\n",
       "      <th>invoice_date</th>\n",
       "      <th>price_per_unit</th>\n",
       "      <th>id_customer</th>\n",
       "      <th>country</th>\n",
       "    </tr>\n",
       "  </thead>\n",
       "  <tbody>\n",
       "  </tbody>\n",
       "</table>\n",
       "</div>"
      ],
      "text/plain": [
       "Empty DataFrame\n",
       "Columns: [id_invoice, code_stock, name, quantity, invoice_date, price_per_unit, id_customer, country]\n",
       "Index: []"
      ]
     },
     "execution_count": 38,
     "metadata": {},
     "output_type": "execute_result"
    }
   ],
   "source": [
    "df[df['invoice_date'].isna()]\n",
    "# There are no null values in invoice_date, but it still being 'object' so lets continue"
   ]
  },
  {
   "cell_type": "code",
   "execution_count": 39,
   "id": "f7602c2e-40bd-45e5-a16d-8325c788c0b5",
   "metadata": {},
   "outputs": [
    {
     "data": {
      "text/plain": [
       "array(['01-12-2010 08:26', '01-12-2010 08:28', '01-12-2010 08:34', ...,\n",
       "       '13-01-2011 12:53', '13-01-2011 12:56', '13-01-2011 13:21'],\n",
       "      dtype=object)"
      ]
     },
     "execution_count": 39,
     "metadata": {},
     "output_type": "execute_result"
    }
   ],
   "source": [
    "df['invoice_date'].unique()[:2000]\n",
    "# It seems that the dates follow the same format"
   ]
  },
  {
   "cell_type": "code",
   "execution_count": 40,
   "id": "ef6d169e-e538-4533-a1b3-37a0566c22b4",
   "metadata": {},
   "outputs": [
    {
     "data": {
      "text/plain": [
       "invoice_date\n",
       "16    401599\n",
       "Name: count, dtype: int64"
      ]
     },
     "execution_count": 40,
     "metadata": {},
     "output_type": "execute_result"
    }
   ],
   "source": [
    "df['invoice_date'].str.len().value_counts()\n",
    "# All values have 16 characters... good"
   ]
  },
  {
   "cell_type": "code",
   "execution_count": 41,
   "id": "78cffc43-72fb-476f-83b5-37aed9b0a598",
   "metadata": {},
   "outputs": [],
   "source": [
    "df['invoice_date'] = pd.to_datetime(df['invoice_date'], format='%d-%m-%Y %H:%M', errors='coerce')"
   ]
  },
  {
   "cell_type": "code",
   "execution_count": 42,
   "id": "6480a96a-1a53-4578-812f-68d9534a3e24",
   "metadata": {},
   "outputs": [
    {
     "name": "stdout",
     "output_type": "stream",
     "text": [
      "0\n"
     ]
    }
   ],
   "source": [
    "print(df['invoice_date'].isna().sum())  # is = 0 so the transformation was excellent."
   ]
  },
  {
   "cell_type": "markdown",
   "id": "8d3835d0-e327-4a6f-b60e-1f855d2baba0",
   "metadata": {
    "jp-MarkdownHeadingCollapsed": true
   },
   "source": [
    "### Country edition (EIRE)"
   ]
  },
  {
   "cell_type": "code",
   "execution_count": 44,
   "id": "0e0bf639-2696-44ec-91a7-9a04c681cb67",
   "metadata": {},
   "outputs": [],
   "source": [
    "df['country'] = df['country'].replace('EIRE', 'Ireland')"
   ]
  },
  {
   "cell_type": "code",
   "execution_count": 45,
   "id": "c59690ae-a531-44f5-92c9-30b9e34d12c2",
   "metadata": {},
   "outputs": [
    {
     "name": "stdout",
     "output_type": "stream",
     "text": [
      "<class 'pandas.core.frame.DataFrame'>\n",
      "Index: 401599 entries, 0 to 541908\n",
      "Data columns (total 8 columns):\n",
      " #   Column          Non-Null Count   Dtype         \n",
      "---  ------          --------------   -----         \n",
      " 0   id_invoice      401599 non-null  object        \n",
      " 1   code_stock      401599 non-null  object        \n",
      " 2   name            401599 non-null  object        \n",
      " 3   quantity        401599 non-null  int64         \n",
      " 4   invoice_date    401599 non-null  datetime64[ns]\n",
      " 5   price_per_unit  401599 non-null  float64       \n",
      " 6   id_customer     401599 non-null  object        \n",
      " 7   country         401599 non-null  object        \n",
      "dtypes: datetime64[ns](1), float64(1), int64(1), object(5)\n",
      "memory usage: 27.6+ MB\n"
     ]
    }
   ],
   "source": [
    "# Negative values in 'quantity' are returns, lets divide the datasets future analysis\n",
    "df.info()"
   ]
  },
  {
   "cell_type": "code",
   "execution_count": 46,
   "id": "ddc4b699-8ffe-4b87-856d-902b1be6a721",
   "metadata": {},
   "outputs": [
    {
     "data": {
      "text/html": [
       "<div>\n",
       "<style scoped>\n",
       "    .dataframe tbody tr th:only-of-type {\n",
       "        vertical-align: middle;\n",
       "    }\n",
       "\n",
       "    .dataframe tbody tr th {\n",
       "        vertical-align: top;\n",
       "    }\n",
       "\n",
       "    .dataframe thead th {\n",
       "        text-align: right;\n",
       "    }\n",
       "</style>\n",
       "<table border=\"1\" class=\"dataframe\">\n",
       "  <thead>\n",
       "    <tr style=\"text-align: right;\">\n",
       "      <th></th>\n",
       "      <th>id_invoice</th>\n",
       "      <th>code_stock</th>\n",
       "      <th>name</th>\n",
       "      <th>quantity</th>\n",
       "      <th>invoice_date</th>\n",
       "      <th>price_per_unit</th>\n",
       "      <th>id_customer</th>\n",
       "      <th>country</th>\n",
       "    </tr>\n",
       "  </thead>\n",
       "  <tbody>\n",
       "  </tbody>\n",
       "</table>\n",
       "</div>"
      ],
      "text/plain": [
       "Empty DataFrame\n",
       "Columns: [id_invoice, code_stock, name, quantity, invoice_date, price_per_unit, id_customer, country]\n",
       "Index: []"
      ]
     },
     "execution_count": 46,
     "metadata": {},
     "output_type": "execute_result"
    }
   ],
   "source": [
    "df[df['quantity'] == 0].head() # there are no values with quantity"
   ]
  },
  {
   "cell_type": "code",
   "execution_count": 47,
   "id": "93b939dd-6f6b-482a-b4fa-c2369be27b27",
   "metadata": {},
   "outputs": [],
   "source": [
    "# ONE FOR THE ORIGINAL WITHOUT RETURNS AND ONE FOR THE RETURNS\n",
    "df_returns = df[df['quantity'] < 0].copy()\n",
    "df_sales = df[df['quantity'] >= 0].copy()"
   ]
  },
  {
   "cell_type": "code",
   "execution_count": 48,
   "id": "0bb31538-cf76-4984-86cd-7c36dfc15fbe",
   "metadata": {},
   "outputs": [
    {
     "data": {
      "text/plain": [
       "id_invoice        8869\n",
       "code_stock        8869\n",
       "name              8869\n",
       "quantity          8869\n",
       "invoice_date      8869\n",
       "price_per_unit    8869\n",
       "id_customer       8869\n",
       "country           8869\n",
       "dtype: int64"
      ]
     },
     "execution_count": 48,
     "metadata": {},
     "output_type": "execute_result"
    }
   ],
   "source": [
    "df[df['quantity'] < 0].count()"
   ]
  },
  {
   "cell_type": "markdown",
   "id": "f7d720cb-9606-4a15-8f9a-7d89bb959667",
   "metadata": {},
   "source": [
    "### Last check"
   ]
  },
  {
   "cell_type": "code",
   "execution_count": 50,
   "id": "81e2127f-c2d8-48b7-9534-5713b7378ef6",
   "metadata": {},
   "outputs": [
    {
     "data": {
      "text/html": [
       "<div>\n",
       "<style scoped>\n",
       "    .dataframe tbody tr th:only-of-type {\n",
       "        vertical-align: middle;\n",
       "    }\n",
       "\n",
       "    .dataframe tbody tr th {\n",
       "        vertical-align: top;\n",
       "    }\n",
       "\n",
       "    .dataframe thead th {\n",
       "        text-align: right;\n",
       "    }\n",
       "</style>\n",
       "<table border=\"1\" class=\"dataframe\">\n",
       "  <thead>\n",
       "    <tr style=\"text-align: right;\">\n",
       "      <th></th>\n",
       "      <th>quantity</th>\n",
       "      <th>invoice_date</th>\n",
       "      <th>price_per_unit</th>\n",
       "    </tr>\n",
       "  </thead>\n",
       "  <tbody>\n",
       "    <tr>\n",
       "      <th>count</th>\n",
       "      <td>8869.000000</td>\n",
       "      <td>8869</td>\n",
       "      <td>8869.000000</td>\n",
       "    </tr>\n",
       "    <tr>\n",
       "      <th>mean</th>\n",
       "      <td>-13.284925</td>\n",
       "      <td>2011-06-27 09:07:58.701093632</td>\n",
       "      <td>14.511597</td>\n",
       "    </tr>\n",
       "    <tr>\n",
       "      <th>min</th>\n",
       "      <td>-9360.000000</td>\n",
       "      <td>2010-12-01 09:41:00</td>\n",
       "      <td>0.010000</td>\n",
       "    </tr>\n",
       "    <tr>\n",
       "      <th>25%</th>\n",
       "      <td>-6.000000</td>\n",
       "      <td>2011-03-23 12:11:00</td>\n",
       "      <td>1.450000</td>\n",
       "    </tr>\n",
       "    <tr>\n",
       "      <th>50%</th>\n",
       "      <td>-2.000000</td>\n",
       "      <td>2011-07-11 13:51:00</td>\n",
       "      <td>2.950000</td>\n",
       "    </tr>\n",
       "    <tr>\n",
       "      <th>75%</th>\n",
       "      <td>-1.000000</td>\n",
       "      <td>2011-10-06 20:36:00</td>\n",
       "      <td>4.950000</td>\n",
       "    </tr>\n",
       "    <tr>\n",
       "      <th>max</th>\n",
       "      <td>-1.000000</td>\n",
       "      <td>2011-12-09 11:58:00</td>\n",
       "      <td>8142.750000</td>\n",
       "    </tr>\n",
       "    <tr>\n",
       "      <th>std</th>\n",
       "      <td>120.629120</td>\n",
       "      <td>NaN</td>\n",
       "      <td>164.793514</td>\n",
       "    </tr>\n",
       "  </tbody>\n",
       "</table>\n",
       "</div>"
      ],
      "text/plain": [
       "          quantity                   invoice_date  price_per_unit\n",
       "count  8869.000000                           8869     8869.000000\n",
       "mean    -13.284925  2011-06-27 09:07:58.701093632       14.511597\n",
       "min   -9360.000000            2010-12-01 09:41:00        0.010000\n",
       "25%      -6.000000            2011-03-23 12:11:00        1.450000\n",
       "50%      -2.000000            2011-07-11 13:51:00        2.950000\n",
       "75%      -1.000000            2011-10-06 20:36:00        4.950000\n",
       "max      -1.000000            2011-12-09 11:58:00     8142.750000\n",
       "std     120.629120                            NaN      164.793514"
      ]
     },
     "execution_count": 50,
     "metadata": {},
     "output_type": "execute_result"
    }
   ],
   "source": [
    "df_returns.describe()"
   ]
  },
  {
   "cell_type": "code",
   "execution_count": 51,
   "id": "420a9fa2-2e30-48a8-9642-a64a4278acbc",
   "metadata": {},
   "outputs": [
    {
     "data": {
      "text/html": [
       "<div>\n",
       "<style scoped>\n",
       "    .dataframe tbody tr th:only-of-type {\n",
       "        vertical-align: middle;\n",
       "    }\n",
       "\n",
       "    .dataframe tbody tr th {\n",
       "        vertical-align: top;\n",
       "    }\n",
       "\n",
       "    .dataframe thead th {\n",
       "        text-align: right;\n",
       "    }\n",
       "</style>\n",
       "<table border=\"1\" class=\"dataframe\">\n",
       "  <thead>\n",
       "    <tr style=\"text-align: right;\">\n",
       "      <th></th>\n",
       "      <th>quantity</th>\n",
       "      <th>invoice_date</th>\n",
       "      <th>price_per_unit</th>\n",
       "    </tr>\n",
       "  </thead>\n",
       "  <tbody>\n",
       "    <tr>\n",
       "      <th>count</th>\n",
       "      <td>392730.000000</td>\n",
       "      <td>392730</td>\n",
       "      <td>392730.000000</td>\n",
       "    </tr>\n",
       "    <tr>\n",
       "      <th>mean</th>\n",
       "      <td>12.758577</td>\n",
       "      <td>2011-07-10 19:15:29.372698880</td>\n",
       "      <td>3.125604</td>\n",
       "    </tr>\n",
       "    <tr>\n",
       "      <th>min</th>\n",
       "      <td>1.000000</td>\n",
       "      <td>2010-12-01 08:26:00</td>\n",
       "      <td>0.000000</td>\n",
       "    </tr>\n",
       "    <tr>\n",
       "      <th>25%</th>\n",
       "      <td>2.000000</td>\n",
       "      <td>2011-04-07 11:12:00</td>\n",
       "      <td>1.250000</td>\n",
       "    </tr>\n",
       "    <tr>\n",
       "      <th>50%</th>\n",
       "      <td>6.000000</td>\n",
       "      <td>2011-07-31 12:02:00</td>\n",
       "      <td>1.950000</td>\n",
       "    </tr>\n",
       "    <tr>\n",
       "      <th>75%</th>\n",
       "      <td>12.000000</td>\n",
       "      <td>2011-10-20 12:53:00</td>\n",
       "      <td>3.750000</td>\n",
       "    </tr>\n",
       "    <tr>\n",
       "      <th>max</th>\n",
       "      <td>12540.000000</td>\n",
       "      <td>2011-12-09 12:50:00</td>\n",
       "      <td>8142.750000</td>\n",
       "    </tr>\n",
       "    <tr>\n",
       "      <th>std</th>\n",
       "      <td>47.497897</td>\n",
       "      <td>NaN</td>\n",
       "      <td>22.240782</td>\n",
       "    </tr>\n",
       "  </tbody>\n",
       "</table>\n",
       "</div>"
      ],
      "text/plain": [
       "            quantity                   invoice_date  price_per_unit\n",
       "count  392730.000000                         392730   392730.000000\n",
       "mean       12.758577  2011-07-10 19:15:29.372698880        3.125604\n",
       "min         1.000000            2010-12-01 08:26:00        0.000000\n",
       "25%         2.000000            2011-04-07 11:12:00        1.250000\n",
       "50%         6.000000            2011-07-31 12:02:00        1.950000\n",
       "75%        12.000000            2011-10-20 12:53:00        3.750000\n",
       "max     12540.000000            2011-12-09 12:50:00     8142.750000\n",
       "std        47.497897                            NaN       22.240782"
      ]
     },
     "execution_count": 51,
     "metadata": {},
     "output_type": "execute_result"
    }
   ],
   "source": [
    "df_sales.describe()"
   ]
  },
  {
   "cell_type": "code",
   "execution_count": 52,
   "id": "ac1d5305-edcf-4755-a7ae-8b1c765e3111",
   "metadata": {},
   "outputs": [
    {
     "data": {
      "text/html": [
       "<div>\n",
       "<style scoped>\n",
       "    .dataframe tbody tr th:only-of-type {\n",
       "        vertical-align: middle;\n",
       "    }\n",
       "\n",
       "    .dataframe tbody tr th {\n",
       "        vertical-align: top;\n",
       "    }\n",
       "\n",
       "    .dataframe thead th {\n",
       "        text-align: right;\n",
       "    }\n",
       "</style>\n",
       "<table border=\"1\" class=\"dataframe\">\n",
       "  <thead>\n",
       "    <tr style=\"text-align: right;\">\n",
       "      <th></th>\n",
       "      <th>id_invoice</th>\n",
       "      <th>code_stock</th>\n",
       "      <th>name</th>\n",
       "      <th>id_customer</th>\n",
       "      <th>country</th>\n",
       "    </tr>\n",
       "  </thead>\n",
       "  <tbody>\n",
       "    <tr>\n",
       "      <th>count</th>\n",
       "      <td>392730</td>\n",
       "      <td>392730</td>\n",
       "      <td>392730</td>\n",
       "      <td>392730</td>\n",
       "      <td>392730</td>\n",
       "    </tr>\n",
       "    <tr>\n",
       "      <th>unique</th>\n",
       "      <td>18534</td>\n",
       "      <td>3664</td>\n",
       "      <td>3876</td>\n",
       "      <td>4338</td>\n",
       "      <td>37</td>\n",
       "    </tr>\n",
       "    <tr>\n",
       "      <th>top</th>\n",
       "      <td>576339</td>\n",
       "      <td>85123A</td>\n",
       "      <td>WHITE HANGING HEART T-LIGHT HOLDER</td>\n",
       "      <td>17841</td>\n",
       "      <td>UK</td>\n",
       "    </tr>\n",
       "    <tr>\n",
       "      <th>freq</th>\n",
       "      <td>542</td>\n",
       "      <td>2023</td>\n",
       "      <td>2016</td>\n",
       "      <td>7676</td>\n",
       "      <td>349225</td>\n",
       "    </tr>\n",
       "  </tbody>\n",
       "</table>\n",
       "</div>"
      ],
      "text/plain": [
       "       id_invoice code_stock                                name  id_customer  \\\n",
       "count      392730     392730                              392730       392730   \n",
       "unique      18534       3664                                3876         4338   \n",
       "top        576339     85123A  WHITE HANGING HEART T-LIGHT HOLDER        17841   \n",
       "freq          542       2023                                2016         7676   \n",
       "\n",
       "       country  \n",
       "count   392730  \n",
       "unique      37  \n",
       "top         UK  \n",
       "freq    349225  "
      ]
     },
     "execution_count": 52,
     "metadata": {},
     "output_type": "execute_result"
    }
   ],
   "source": [
    "df_sales.describe(include='object')"
   ]
  },
  {
   "cell_type": "markdown",
   "id": "ee28362b-04d3-4265-afe4-725c5725e687",
   "metadata": {},
   "source": [
    "# Exploratory Data Analysis"
   ]
  },
  {
   "cell_type": "code",
   "execution_count": 54,
   "id": "b0a4bf96-47c3-4ac5-bbf2-9494ed63d0b0",
   "metadata": {},
   "outputs": [
    {
     "name": "stdout",
     "output_type": "stream",
     "text": [
      "<class 'pandas.core.frame.DataFrame'>\n",
      "Index: 392730 entries, 0 to 541908\n",
      "Data columns (total 8 columns):\n",
      " #   Column          Non-Null Count   Dtype         \n",
      "---  ------          --------------   -----         \n",
      " 0   id_invoice      392730 non-null  object        \n",
      " 1   code_stock      392730 non-null  object        \n",
      " 2   name            392730 non-null  object        \n",
      " 3   quantity        392730 non-null  int64         \n",
      " 4   invoice_date    392730 non-null  datetime64[ns]\n",
      " 5   price_per_unit  392730 non-null  float64       \n",
      " 6   id_customer     392730 non-null  object        \n",
      " 7   country         392730 non-null  object        \n",
      "dtypes: datetime64[ns](1), float64(1), int64(1), object(5)\n",
      "memory usage: 27.0+ MB\n"
     ]
    }
   ],
   "source": [
    "df_sales.info()"
   ]
  },
  {
   "cell_type": "markdown",
   "id": "c14896af-b7dd-43f8-8933-a58c6096403f",
   "metadata": {
    "jp-MarkdownHeadingCollapsed": true
   },
   "source": [
    "### Distribution of Variables"
   ]
  },
  {
   "cell_type": "code",
   "execution_count": 56,
   "id": "c73f6316-4f9c-4d39-9531-28116f5147a8",
   "metadata": {},
   "outputs": [
    {
     "data": {
      "image/png": "[encoded data removed]",
      "text/plain": [
       "<Figure size 640x480 with 1 Axes>"
      ]
     },
     "metadata": {},
     "output_type": "display_data"
    },
    {
     "data": {
      "image/png": "[encoded data removed]",
      "text/plain": [
       "<Figure size 640x480 with 1 Axes>"
      ]
     },
     "metadata": {},
     "output_type": "display_data"
    }
   ],
   "source": [
    "# Distribution of variables\n",
    "\n",
    "# quantity\n",
    "sns.histplot(df['quantity'], bins=50)\n",
    "plt.title('Quantity distribution')\n",
    "plt.show()\n",
    "\n",
    "# price_per_unit\n",
    "sns.boxplot(x=df['price_per_unit'])\n",
    "plt.title('Price per unit distribution')\n",
    "plt.show()"
   ]
  },
  {
   "cell_type": "markdown",
   "id": "0377a84a-7efc-4834-a7fb-c310c4abb4e4",
   "metadata": {
    "jp-MarkdownHeadingCollapsed": true
   },
   "source": [
    "### Top products and customers"
   ]
  },
  {
   "cell_type": "code",
   "execution_count": 58,
   "id": "ecc6293b-cc7a-4c3d-87c3-eac216f51c19",
   "metadata": {},
   "outputs": [
    {
     "data": {
      "text/plain": [
       "name\n",
       "WORLD WAR 2 GLIDERS ASSTD DESIGNS     54319\n",
       "JUMBO BAG RED RETROSPOT               46078\n",
       "WHITE HANGING HEART T-LIGHT HOLDER    36706\n",
       "ASSORTED COLOUR BIRD ORNAMENT         35263\n",
       "PACK OF 72 RETROSPOT CAKE CASES       33670\n",
       "POPCORN HOLDER                        30919\n",
       "RABBIT NIGHT LIGHT                    27153\n",
       "MINI PAINT SET VINTAGE                26076\n",
       "PACK OF 12 LONDON TISSUES             25329\n",
       "PACK OF 60 PINK PAISLEY CAKE CASES    24230\n",
       "Name: quantity, dtype: int64"
      ]
     },
     "execution_count": 58,
     "metadata": {},
     "output_type": "execute_result"
    }
   ],
   "source": [
    "# Best selling products\n",
    "df_sales.groupby('name')['quantity'].sum().sort_values(ascending=False).head(10)"
   ]
  },
  {
   "cell_type": "code",
   "execution_count": 59,
   "id": "5f24d473-4fbe-4d7b-b9e8-6f8937d37471",
   "metadata": {},
   "outputs": [
    {
     "data": {
      "text/plain": [
       "id_customer\n",
       "14646    196719\n",
       "12415     77242\n",
       "14911     77155\n",
       "17450     69009\n",
       "18102     64122\n",
       "17511     63012\n",
       "13694     61899\n",
       "14298     58021\n",
       "14156     56908\n",
       "16684     49390\n",
       "Name: quantity, dtype: int64"
      ]
     },
     "execution_count": 59,
     "metadata": {},
     "output_type": "execute_result"
    }
   ],
   "source": [
    "# Best customers\n",
    "df.groupby('id_customer')['quantity'].sum().sort_values(ascending=False).head(10)"
   ]
  },
  {
   "cell_type": "markdown",
   "id": "43fa9deb-bbf1-4f85-94f4-cf1a18ec9aa9",
   "metadata": {},
   "source": [
    "### Additional variables"
   ]
  },
  {
   "cell_type": "code",
   "execution_count": 61,
   "id": "37f86edc-1cda-412a-9099-8e546d6ba5d4",
   "metadata": {},
   "outputs": [
    {
     "name": "stdout",
     "output_type": "stream",
     "text": [
      "<class 'pandas.core.frame.DataFrame'>\n",
      "Index: 401599 entries, 0 to 541908\n",
      "Data columns (total 8 columns):\n",
      " #   Column          Non-Null Count   Dtype         \n",
      "---  ------          --------------   -----         \n",
      " 0   id_invoice      401599 non-null  object        \n",
      " 1   code_stock      401599 non-null  object        \n",
      " 2   name            401599 non-null  object        \n",
      " 3   quantity        401599 non-null  int64         \n",
      " 4   invoice_date    401599 non-null  datetime64[ns]\n",
      " 5   price_per_unit  401599 non-null  float64       \n",
      " 6   id_customer     401599 non-null  object        \n",
      " 7   country         401599 non-null  object        \n",
      "dtypes: datetime64[ns](1), float64(1), int64(1), object(5)\n",
      "memory usage: 27.6+ MB\n"
     ]
    }
   ],
   "source": [
    "df.info()"
   ]
  },
  {
   "cell_type": "code",
   "execution_count": 62,
   "id": "a9c519b7-61d5-4770-942b-89ff0d2afbc2",
   "metadata": {},
   "outputs": [],
   "source": [
    "# Creation of additional variables\n",
    "df['total_income'] = df['quantity'] * df['price_per_unit']"
   ]
  },
  {
   "cell_type": "code",
   "execution_count": 63,
   "id": "31c860ac-bab9-4a28-9f4f-edb63707a03a",
   "metadata": {},
   "outputs": [],
   "source": [
    "df['invoice_month'] = df['invoice_date'].dt.to_period('M')"
   ]
  },
  {
   "cell_type": "code",
   "execution_count": 64,
   "id": "c1fef811-9f2b-4257-a144-2d9373c46d45",
   "metadata": {},
   "outputs": [],
   "source": [
    "# Columnn with number of month (1 to 12)\n",
    "df['month'] = df['invoice_date'].dt.month"
   ]
  },
  {
   "cell_type": "code",
   "execution_count": 65,
   "id": "0011b4f5-e851-4bb9-a977-66b31e8db76f",
   "metadata": {},
   "outputs": [],
   "source": [
    "# Column with number of weekday (1 = Monday, 7 = Sunday)\n",
    "df['weekday'] = df['invoice_date'].dt.weekday + 1"
   ]
  },
  {
   "cell_type": "code",
   "execution_count": 66,
   "id": "6316908a-1bfd-40df-87b9-371a14b850ea",
   "metadata": {},
   "outputs": [],
   "source": [
    "# Column with hour (0 to 23)\n",
    "df['hour'] = df['invoice_date'].dt.hour"
   ]
  },
  {
   "cell_type": "code",
   "execution_count": 67,
   "id": "104a686f-9de7-48a2-bc8d-2a6d5bc5f267",
   "metadata": {},
   "outputs": [
    {
     "data": {
      "text/html": [
       "<div>\n",
       "<style scoped>\n",
       "    .dataframe tbody tr th:only-of-type {\n",
       "        vertical-align: middle;\n",
       "    }\n",
       "\n",
       "    .dataframe tbody tr th {\n",
       "        vertical-align: top;\n",
       "    }\n",
       "\n",
       "    .dataframe thead th {\n",
       "        text-align: right;\n",
       "    }\n",
       "</style>\n",
       "<table border=\"1\" class=\"dataframe\">\n",
       "  <thead>\n",
       "    <tr style=\"text-align: right;\">\n",
       "      <th></th>\n",
       "      <th>invoice_date</th>\n",
       "      <th>month</th>\n",
       "      <th>weekday</th>\n",
       "      <th>hour</th>\n",
       "    </tr>\n",
       "  </thead>\n",
       "  <tbody>\n",
       "    <tr>\n",
       "      <th>0</th>\n",
       "      <td>2010-12-01 08:26:00</td>\n",
       "      <td>12</td>\n",
       "      <td>3</td>\n",
       "      <td>8</td>\n",
       "    </tr>\n",
       "    <tr>\n",
       "      <th>1</th>\n",
       "      <td>2010-12-01 08:26:00</td>\n",
       "      <td>12</td>\n",
       "      <td>3</td>\n",
       "      <td>8</td>\n",
       "    </tr>\n",
       "    <tr>\n",
       "      <th>2</th>\n",
       "      <td>2010-12-01 08:26:00</td>\n",
       "      <td>12</td>\n",
       "      <td>3</td>\n",
       "      <td>8</td>\n",
       "    </tr>\n",
       "    <tr>\n",
       "      <th>3</th>\n",
       "      <td>2010-12-01 08:26:00</td>\n",
       "      <td>12</td>\n",
       "      <td>3</td>\n",
       "      <td>8</td>\n",
       "    </tr>\n",
       "    <tr>\n",
       "      <th>4</th>\n",
       "      <td>2010-12-01 08:26:00</td>\n",
       "      <td>12</td>\n",
       "      <td>3</td>\n",
       "      <td>8</td>\n",
       "    </tr>\n",
       "  </tbody>\n",
       "</table>\n",
       "</div>"
      ],
      "text/plain": [
       "         invoice_date  month  weekday  hour\n",
       "0 2010-12-01 08:26:00     12        3     8\n",
       "1 2010-12-01 08:26:00     12        3     8\n",
       "2 2010-12-01 08:26:00     12        3     8\n",
       "3 2010-12-01 08:26:00     12        3     8\n",
       "4 2010-12-01 08:26:00     12        3     8"
      ]
     },
     "execution_count": 67,
     "metadata": {},
     "output_type": "execute_result"
    }
   ],
   "source": [
    "# Lets see the results\n",
    "df[['invoice_date', 'month', 'weekday', 'hour']].head()"
   ]
  },
  {
   "cell_type": "code",
   "execution_count": 68,
   "id": "c5466e0f-129c-421d-bf9e-9928447c9e31",
   "metadata": {},
   "outputs": [
    {
     "data": {
      "text/html": [
       "<div>\n",
       "<style scoped>\n",
       "    .dataframe tbody tr th:only-of-type {\n",
       "        vertical-align: middle;\n",
       "    }\n",
       "\n",
       "    .dataframe tbody tr th {\n",
       "        vertical-align: top;\n",
       "    }\n",
       "\n",
       "    .dataframe thead th {\n",
       "        text-align: right;\n",
       "    }\n",
       "</style>\n",
       "<table border=\"1\" class=\"dataframe\">\n",
       "  <thead>\n",
       "    <tr style=\"text-align: right;\">\n",
       "      <th></th>\n",
       "      <th>id_invoice</th>\n",
       "      <th>code_stock</th>\n",
       "      <th>name</th>\n",
       "      <th>quantity</th>\n",
       "      <th>invoice_date</th>\n",
       "      <th>price_per_unit</th>\n",
       "      <th>id_customer</th>\n",
       "      <th>country</th>\n",
       "      <th>total_income</th>\n",
       "      <th>invoice_month</th>\n",
       "      <th>month</th>\n",
       "      <th>weekday</th>\n",
       "      <th>hour</th>\n",
       "    </tr>\n",
       "  </thead>\n",
       "  <tbody>\n",
       "    <tr>\n",
       "      <th>0</th>\n",
       "      <td>536365</td>\n",
       "      <td>85123A</td>\n",
       "      <td>WHITE HANGING HEART T-LIGHT HOLDER</td>\n",
       "      <td>6</td>\n",
       "      <td>2010-12-01 08:26:00</td>\n",
       "      <td>2.55</td>\n",
       "      <td>17850</td>\n",
       "      <td>UK</td>\n",
       "      <td>15.30</td>\n",
       "      <td>2010-12</td>\n",
       "      <td>12</td>\n",
       "      <td>3</td>\n",
       "      <td>8</td>\n",
       "    </tr>\n",
       "    <tr>\n",
       "      <th>1</th>\n",
       "      <td>536365</td>\n",
       "      <td>71053</td>\n",
       "      <td>WHITE METAL LANTERN</td>\n",
       "      <td>6</td>\n",
       "      <td>2010-12-01 08:26:00</td>\n",
       "      <td>3.39</td>\n",
       "      <td>17850</td>\n",
       "      <td>UK</td>\n",
       "      <td>20.34</td>\n",
       "      <td>2010-12</td>\n",
       "      <td>12</td>\n",
       "      <td>3</td>\n",
       "      <td>8</td>\n",
       "    </tr>\n",
       "    <tr>\n",
       "      <th>2</th>\n",
       "      <td>536365</td>\n",
       "      <td>84406B</td>\n",
       "      <td>CREAM CUPID HEARTS COAT HANGER</td>\n",
       "      <td>8</td>\n",
       "      <td>2010-12-01 08:26:00</td>\n",
       "      <td>2.75</td>\n",
       "      <td>17850</td>\n",
       "      <td>UK</td>\n",
       "      <td>22.00</td>\n",
       "      <td>2010-12</td>\n",
       "      <td>12</td>\n",
       "      <td>3</td>\n",
       "      <td>8</td>\n",
       "    </tr>\n",
       "    <tr>\n",
       "      <th>3</th>\n",
       "      <td>536365</td>\n",
       "      <td>84029G</td>\n",
       "      <td>KNITTED UNION FLAG HOT WATER BOTTLE</td>\n",
       "      <td>6</td>\n",
       "      <td>2010-12-01 08:26:00</td>\n",
       "      <td>3.39</td>\n",
       "      <td>17850</td>\n",
       "      <td>UK</td>\n",
       "      <td>20.34</td>\n",
       "      <td>2010-12</td>\n",
       "      <td>12</td>\n",
       "      <td>3</td>\n",
       "      <td>8</td>\n",
       "    </tr>\n",
       "    <tr>\n",
       "      <th>4</th>\n",
       "      <td>536365</td>\n",
       "      <td>84029E</td>\n",
       "      <td>RED WOOLLY HOTTIE WHITE HEART.</td>\n",
       "      <td>6</td>\n",
       "      <td>2010-12-01 08:26:00</td>\n",
       "      <td>3.39</td>\n",
       "      <td>17850</td>\n",
       "      <td>UK</td>\n",
       "      <td>20.34</td>\n",
       "      <td>2010-12</td>\n",
       "      <td>12</td>\n",
       "      <td>3</td>\n",
       "      <td>8</td>\n",
       "    </tr>\n",
       "  </tbody>\n",
       "</table>\n",
       "</div>"
      ],
      "text/plain": [
       "  id_invoice code_stock                                 name  quantity  \\\n",
       "0     536365     85123A   WHITE HANGING HEART T-LIGHT HOLDER         6   \n",
       "1     536365      71053                  WHITE METAL LANTERN         6   \n",
       "2     536365     84406B       CREAM CUPID HEARTS COAT HANGER         8   \n",
       "3     536365     84029G  KNITTED UNION FLAG HOT WATER BOTTLE         6   \n",
       "4     536365     84029E       RED WOOLLY HOTTIE WHITE HEART.         6   \n",
       "\n",
       "         invoice_date  price_per_unit id_customer country  total_income  \\\n",
       "0 2010-12-01 08:26:00            2.55       17850      UK         15.30   \n",
       "1 2010-12-01 08:26:00            3.39       17850      UK         20.34   \n",
       "2 2010-12-01 08:26:00            2.75       17850      UK         22.00   \n",
       "3 2010-12-01 08:26:00            3.39       17850      UK         20.34   \n",
       "4 2010-12-01 08:26:00            3.39       17850      UK         20.34   \n",
       "\n",
       "  invoice_month  month  weekday  hour  \n",
       "0       2010-12     12        3     8  \n",
       "1       2010-12     12        3     8  \n",
       "2       2010-12     12        3     8  \n",
       "3       2010-12     12        3     8  \n",
       "4       2010-12     12        3     8  "
      ]
     },
     "execution_count": 68,
     "metadata": {},
     "output_type": "execute_result"
    }
   ],
   "source": [
    "df.head()"
   ]
  },
  {
   "cell_type": "code",
   "execution_count": 69,
   "id": "0514d0e4-e46f-4c90-80b9-d418faf1ff2c",
   "metadata": {},
   "outputs": [
    {
     "data": {
      "text/html": [
       "<div>\n",
       "<style scoped>\n",
       "    .dataframe tbody tr th:only-of-type {\n",
       "        vertical-align: middle;\n",
       "    }\n",
       "\n",
       "    .dataframe tbody tr th {\n",
       "        vertical-align: top;\n",
       "    }\n",
       "\n",
       "    .dataframe thead th {\n",
       "        text-align: right;\n",
       "    }\n",
       "</style>\n",
       "<table border=\"1\" class=\"dataframe\">\n",
       "  <thead>\n",
       "    <tr style=\"text-align: right;\">\n",
       "      <th></th>\n",
       "      <th>id_invoice</th>\n",
       "      <th>code_stock</th>\n",
       "      <th>name</th>\n",
       "      <th>quantity</th>\n",
       "      <th>invoice_date</th>\n",
       "      <th>price_per_unit</th>\n",
       "      <th>id_customer</th>\n",
       "      <th>country</th>\n",
       "      <th>total_income</th>\n",
       "      <th>invoice_month</th>\n",
       "      <th>month</th>\n",
       "      <th>weekday</th>\n",
       "      <th>hour</th>\n",
       "    </tr>\n",
       "  </thead>\n",
       "  <tbody>\n",
       "  </tbody>\n",
       "</table>\n",
       "</div>"
      ],
      "text/plain": [
       "Empty DataFrame\n",
       "Columns: [id_invoice, code_stock, name, quantity, invoice_date, price_per_unit, id_customer, country, total_income, invoice_month, month, weekday, hour]\n",
       "Index: []"
      ]
     },
     "execution_count": 69,
     "metadata": {},
     "output_type": "execute_result"
    }
   ],
   "source": [
    "df[df['invoice_date'].isna()]\n",
    "# There are no null values. Excellent"
   ]
  },
  {
   "cell_type": "markdown",
   "id": "811d0c78-6840-440c-abeb-61ebad9aafc4",
   "metadata": {
    "jp-MarkdownHeadingCollapsed": true
   },
   "source": [
    "### Temporal analysis"
   ]
  },
  {
   "cell_type": "code",
   "execution_count": 71,
   "id": "8a76cf24-3ff1-47f5-852f-3e41daff01a2",
   "metadata": {},
   "outputs": [
    {
     "data": {
      "image/png": "[encoded data removed]",
      "text/plain": [
       "<Figure size 1000x500 with 1 Axes>"
      ]
     },
     "metadata": {},
     "output_type": "display_data"
    }
   ],
   "source": [
    "# Ventas por mes\n",
    "df.groupby('invoice_month')['total_income'].sum().plot(kind='line', figsize=(10,5))\n",
    "plt.title('Ventas mensuales')\n",
    "plt.xlabel('Mes')\n",
    "plt.ylabel('Total ventas')\n",
    "plt.show()"
   ]
  },
  {
   "cell_type": "markdown",
   "id": "f090aad0-cc1d-4167-87e5-9989ea3b9615",
   "metadata": {
    "jp-MarkdownHeadingCollapsed": true
   },
   "source": [
    "### Top countries"
   ]
  },
  {
   "cell_type": "code",
   "execution_count": 73,
   "id": "6fcac76e-c837-4b1b-a0c2-be52f5fb06d8",
   "metadata": {},
   "outputs": [
    {
     "data": {
      "image/png": "[encoded data removed]",
      "text/plain": [
       "<Figure size 1000x600 with 1 Axes>"
      ]
     },
     "metadata": {},
     "output_type": "display_data"
    }
   ],
   "source": [
    "# Group by y and sum total_income by country\n",
    "total_by_country = df.groupby('country')['total_income'].sum().sort_values(ascending=False).head(10)\n",
    "\n",
    "# Graph\n",
    "total_by_country.plot(kind='bar', figsize=(10, 6), color='skyblue')\n",
    "plt.title('Top 10 países por monto total facturado')\n",
    "plt.ylabel('Total facturado')\n",
    "plt.xlabel('País')\n",
    "plt.xticks(rotation=45)\n",
    "plt.tight_layout()\n",
    "plt.show()\n"
   ]
  },
  {
   "cell_type": "markdown",
   "id": "856c6cfb-5e85-4d27-9bd2-18f3b2d745a6",
   "metadata": {},
   "source": [
    "### Correlations"
   ]
  },
  {
   "cell_type": "code",
   "execution_count": 75,
   "id": "90eef1c2-3c56-4c08-8a11-765ad7ba653b",
   "metadata": {},
   "outputs": [
    {
     "data": {
      "image/png": "[encoded data removed]",
      "text/plain": [
       "<Figure size 640x480 with 2 Axes>"
      ]
     },
     "metadata": {},
     "output_type": "display_data"
    }
   ],
   "source": [
    "# Correlations\n",
    "sns.heatmap(df.corr(numeric_only=True), annot=True, cmap='coolwarm')\n",
    "plt.title('Correlations matrix')\n",
    "plt.show()"
   ]
  },
  {
   "cell_type": "markdown",
   "id": "33b0fbf1-8395-4a91-a4ab-85ee39fe66d3",
   "metadata": {},
   "source": [
    "### Last graphs"
   ]
  },
  {
   "cell_type": "code",
   "execution_count": null,
   "id": "4384fe17-6e43-4f0a-af2b-16112cc31a71",
   "metadata": {},
   "outputs": [],
   "source": []
  },
  {
   "cell_type": "markdown",
   "id": "00061f28-20e1-40f9-bd02-c7bb7dc0e200",
   "metadata": {},
   "source": [
    "### Split dataset"
   ]
  },
  {
   "cell_type": "code",
   "execution_count": 78,
   "id": "9f111ede-3572-4ae8-befd-cda20acb583c",
   "metadata": {},
   "outputs": [],
   "source": [
    "# For only sales\n",
    "df_sales = df[df['quantity'] >= 0].copy()"
   ]
  },
  {
   "cell_type": "code",
   "execution_count": 79,
   "id": "2c9df728-5462-4e93-84c2-917c7ac28bbf",
   "metadata": {},
   "outputs": [],
   "source": [
    "# For only returns\n",
    "df_returns = df[df['quantity'] < 0].copy()"
   ]
  },
  {
   "cell_type": "code",
   "execution_count": 80,
   "id": "2c6f3106-df8d-4525-995e-1571f9486de8",
   "metadata": {},
   "outputs": [
    {
     "data": {
      "text/html": [
       "<div>\n",
       "<style scoped>\n",
       "    .dataframe tbody tr th:only-of-type {\n",
       "        vertical-align: middle;\n",
       "    }\n",
       "\n",
       "    .dataframe tbody tr th {\n",
       "        vertical-align: top;\n",
       "    }\n",
       "\n",
       "    .dataframe thead th {\n",
       "        text-align: right;\n",
       "    }\n",
       "</style>\n",
       "<table border=\"1\" class=\"dataframe\">\n",
       "  <thead>\n",
       "    <tr style=\"text-align: right;\">\n",
       "      <th></th>\n",
       "      <th>id_invoice</th>\n",
       "      <th>code_stock</th>\n",
       "      <th>name</th>\n",
       "      <th>quantity</th>\n",
       "      <th>invoice_date</th>\n",
       "      <th>price_per_unit</th>\n",
       "      <th>id_customer</th>\n",
       "      <th>country</th>\n",
       "      <th>total_income</th>\n",
       "      <th>invoice_month</th>\n",
       "      <th>month</th>\n",
       "      <th>weekday</th>\n",
       "      <th>hour</th>\n",
       "    </tr>\n",
       "  </thead>\n",
       "  <tbody>\n",
       "    <tr>\n",
       "      <th>0</th>\n",
       "      <td>536365</td>\n",
       "      <td>85123A</td>\n",
       "      <td>WHITE HANGING HEART T-LIGHT HOLDER</td>\n",
       "      <td>6</td>\n",
       "      <td>2010-12-01 08:26:00</td>\n",
       "      <td>2.55</td>\n",
       "      <td>17850</td>\n",
       "      <td>UK</td>\n",
       "      <td>15.30</td>\n",
       "      <td>2010-12</td>\n",
       "      <td>12</td>\n",
       "      <td>3</td>\n",
       "      <td>8</td>\n",
       "    </tr>\n",
       "    <tr>\n",
       "      <th>1</th>\n",
       "      <td>536365</td>\n",
       "      <td>71053</td>\n",
       "      <td>WHITE METAL LANTERN</td>\n",
       "      <td>6</td>\n",
       "      <td>2010-12-01 08:26:00</td>\n",
       "      <td>3.39</td>\n",
       "      <td>17850</td>\n",
       "      <td>UK</td>\n",
       "      <td>20.34</td>\n",
       "      <td>2010-12</td>\n",
       "      <td>12</td>\n",
       "      <td>3</td>\n",
       "      <td>8</td>\n",
       "    </tr>\n",
       "    <tr>\n",
       "      <th>2</th>\n",
       "      <td>536365</td>\n",
       "      <td>84406B</td>\n",
       "      <td>CREAM CUPID HEARTS COAT HANGER</td>\n",
       "      <td>8</td>\n",
       "      <td>2010-12-01 08:26:00</td>\n",
       "      <td>2.75</td>\n",
       "      <td>17850</td>\n",
       "      <td>UK</td>\n",
       "      <td>22.00</td>\n",
       "      <td>2010-12</td>\n",
       "      <td>12</td>\n",
       "      <td>3</td>\n",
       "      <td>8</td>\n",
       "    </tr>\n",
       "    <tr>\n",
       "      <th>3</th>\n",
       "      <td>536365</td>\n",
       "      <td>84029G</td>\n",
       "      <td>KNITTED UNION FLAG HOT WATER BOTTLE</td>\n",
       "      <td>6</td>\n",
       "      <td>2010-12-01 08:26:00</td>\n",
       "      <td>3.39</td>\n",
       "      <td>17850</td>\n",
       "      <td>UK</td>\n",
       "      <td>20.34</td>\n",
       "      <td>2010-12</td>\n",
       "      <td>12</td>\n",
       "      <td>3</td>\n",
       "      <td>8</td>\n",
       "    </tr>\n",
       "    <tr>\n",
       "      <th>4</th>\n",
       "      <td>536365</td>\n",
       "      <td>84029E</td>\n",
       "      <td>RED WOOLLY HOTTIE WHITE HEART.</td>\n",
       "      <td>6</td>\n",
       "      <td>2010-12-01 08:26:00</td>\n",
       "      <td>3.39</td>\n",
       "      <td>17850</td>\n",
       "      <td>UK</td>\n",
       "      <td>20.34</td>\n",
       "      <td>2010-12</td>\n",
       "      <td>12</td>\n",
       "      <td>3</td>\n",
       "      <td>8</td>\n",
       "    </tr>\n",
       "  </tbody>\n",
       "</table>\n",
       "</div>"
      ],
      "text/plain": [
       "  id_invoice code_stock                                 name  quantity  \\\n",
       "0     536365     85123A   WHITE HANGING HEART T-LIGHT HOLDER         6   \n",
       "1     536365      71053                  WHITE METAL LANTERN         6   \n",
       "2     536365     84406B       CREAM CUPID HEARTS COAT HANGER         8   \n",
       "3     536365     84029G  KNITTED UNION FLAG HOT WATER BOTTLE         6   \n",
       "4     536365     84029E       RED WOOLLY HOTTIE WHITE HEART.         6   \n",
       "\n",
       "         invoice_date  price_per_unit id_customer country  total_income  \\\n",
       "0 2010-12-01 08:26:00            2.55       17850      UK         15.30   \n",
       "1 2010-12-01 08:26:00            3.39       17850      UK         20.34   \n",
       "2 2010-12-01 08:26:00            2.75       17850      UK         22.00   \n",
       "3 2010-12-01 08:26:00            3.39       17850      UK         20.34   \n",
       "4 2010-12-01 08:26:00            3.39       17850      UK         20.34   \n",
       "\n",
       "  invoice_month  month  weekday  hour  \n",
       "0       2010-12     12        3     8  \n",
       "1       2010-12     12        3     8  \n",
       "2       2010-12     12        3     8  \n",
       "3       2010-12     12        3     8  \n",
       "4       2010-12     12        3     8  "
      ]
     },
     "execution_count": 80,
     "metadata": {},
     "output_type": "execute_result"
    }
   ],
   "source": [
    "df_sales.head()"
   ]
  },
  {
   "cell_type": "code",
   "execution_count": 81,
   "id": "6c84f194-2e68-46f9-a53d-f39185c74856",
   "metadata": {},
   "outputs": [
    {
     "name": "stdout",
     "output_type": "stream",
     "text": [
      "<class 'pandas.core.frame.DataFrame'>\n",
      "Index: 392730 entries, 0 to 541908\n",
      "Data columns (total 13 columns):\n",
      " #   Column          Non-Null Count   Dtype         \n",
      "---  ------          --------------   -----         \n",
      " 0   id_invoice      392730 non-null  object        \n",
      " 1   code_stock      392730 non-null  object        \n",
      " 2   name            392730 non-null  object        \n",
      " 3   quantity        392730 non-null  int64         \n",
      " 4   invoice_date    392730 non-null  datetime64[ns]\n",
      " 5   price_per_unit  392730 non-null  float64       \n",
      " 6   id_customer     392730 non-null  object        \n",
      " 7   country         392730 non-null  object        \n",
      " 8   total_income    392730 non-null  float64       \n",
      " 9   invoice_month   392730 non-null  period[M]     \n",
      " 10  month           392730 non-null  int32         \n",
      " 11  weekday         392730 non-null  int32         \n",
      " 12  hour            392730 non-null  int32         \n",
      "dtypes: datetime64[ns](1), float64(2), int32(3), int64(1), object(5), period[M](1)\n",
      "memory usage: 37.5+ MB\n"
     ]
    }
   ],
   "source": [
    "df_sales.info()"
   ]
  },
  {
   "cell_type": "code",
   "execution_count": 82,
   "id": "3f4bdff4-63f3-404a-9fc5-6d58df141059",
   "metadata": {},
   "outputs": [
    {
     "data": {
      "text/html": [
       "<div>\n",
       "<style scoped>\n",
       "    .dataframe tbody tr th:only-of-type {\n",
       "        vertical-align: middle;\n",
       "    }\n",
       "\n",
       "    .dataframe tbody tr th {\n",
       "        vertical-align: top;\n",
       "    }\n",
       "\n",
       "    .dataframe thead th {\n",
       "        text-align: right;\n",
       "    }\n",
       "</style>\n",
       "<table border=\"1\" class=\"dataframe\">\n",
       "  <thead>\n",
       "    <tr style=\"text-align: right;\">\n",
       "      <th></th>\n",
       "      <th>id_invoice</th>\n",
       "      <th>code_stock</th>\n",
       "      <th>name</th>\n",
       "      <th>quantity</th>\n",
       "      <th>invoice_date</th>\n",
       "      <th>price_per_unit</th>\n",
       "      <th>id_customer</th>\n",
       "      <th>country</th>\n",
       "      <th>total_income</th>\n",
       "      <th>invoice_month</th>\n",
       "      <th>month</th>\n",
       "      <th>weekday</th>\n",
       "      <th>hour</th>\n",
       "    </tr>\n",
       "  </thead>\n",
       "  <tbody>\n",
       "    <tr>\n",
       "      <th>141</th>\n",
       "      <td>C536379</td>\n",
       "      <td>D</td>\n",
       "      <td>Discount</td>\n",
       "      <td>-1</td>\n",
       "      <td>2010-12-01 09:41:00</td>\n",
       "      <td>27.50</td>\n",
       "      <td>14527</td>\n",
       "      <td>UK</td>\n",
       "      <td>-27.50</td>\n",
       "      <td>2010-12</td>\n",
       "      <td>12</td>\n",
       "      <td>3</td>\n",
       "      <td>9</td>\n",
       "    </tr>\n",
       "    <tr>\n",
       "      <th>154</th>\n",
       "      <td>C536383</td>\n",
       "      <td>35004C</td>\n",
       "      <td>SET OF 3 COLOURED  FLYING DUCKS</td>\n",
       "      <td>-1</td>\n",
       "      <td>2010-12-01 09:49:00</td>\n",
       "      <td>4.65</td>\n",
       "      <td>15311</td>\n",
       "      <td>UK</td>\n",
       "      <td>-4.65</td>\n",
       "      <td>2010-12</td>\n",
       "      <td>12</td>\n",
       "      <td>3</td>\n",
       "      <td>9</td>\n",
       "    </tr>\n",
       "    <tr>\n",
       "      <th>235</th>\n",
       "      <td>C536391</td>\n",
       "      <td>22556</td>\n",
       "      <td>PLASTERS IN TIN CIRCUS PARADE</td>\n",
       "      <td>-12</td>\n",
       "      <td>2010-12-01 10:24:00</td>\n",
       "      <td>1.65</td>\n",
       "      <td>17548</td>\n",
       "      <td>UK</td>\n",
       "      <td>-19.80</td>\n",
       "      <td>2010-12</td>\n",
       "      <td>12</td>\n",
       "      <td>3</td>\n",
       "      <td>10</td>\n",
       "    </tr>\n",
       "    <tr>\n",
       "      <th>236</th>\n",
       "      <td>C536391</td>\n",
       "      <td>21984</td>\n",
       "      <td>PACK OF 12 PINK PAISLEY TISSUES</td>\n",
       "      <td>-24</td>\n",
       "      <td>2010-12-01 10:24:00</td>\n",
       "      <td>0.29</td>\n",
       "      <td>17548</td>\n",
       "      <td>UK</td>\n",
       "      <td>-6.96</td>\n",
       "      <td>2010-12</td>\n",
       "      <td>12</td>\n",
       "      <td>3</td>\n",
       "      <td>10</td>\n",
       "    </tr>\n",
       "    <tr>\n",
       "      <th>237</th>\n",
       "      <td>C536391</td>\n",
       "      <td>21983</td>\n",
       "      <td>PACK OF 12 BLUE PAISLEY TISSUES</td>\n",
       "      <td>-24</td>\n",
       "      <td>2010-12-01 10:24:00</td>\n",
       "      <td>0.29</td>\n",
       "      <td>17548</td>\n",
       "      <td>UK</td>\n",
       "      <td>-6.96</td>\n",
       "      <td>2010-12</td>\n",
       "      <td>12</td>\n",
       "      <td>3</td>\n",
       "      <td>10</td>\n",
       "    </tr>\n",
       "  </tbody>\n",
       "</table>\n",
       "</div>"
      ],
      "text/plain": [
       "    id_invoice code_stock                              name  quantity  \\\n",
       "141    C536379          D                          Discount        -1   \n",
       "154    C536383     35004C   SET OF 3 COLOURED  FLYING DUCKS        -1   \n",
       "235    C536391      22556    PLASTERS IN TIN CIRCUS PARADE        -12   \n",
       "236    C536391      21984  PACK OF 12 PINK PAISLEY TISSUES        -24   \n",
       "237    C536391      21983  PACK OF 12 BLUE PAISLEY TISSUES        -24   \n",
       "\n",
       "           invoice_date  price_per_unit id_customer country  total_income  \\\n",
       "141 2010-12-01 09:41:00           27.50       14527      UK        -27.50   \n",
       "154 2010-12-01 09:49:00            4.65       15311      UK         -4.65   \n",
       "235 2010-12-01 10:24:00            1.65       17548      UK        -19.80   \n",
       "236 2010-12-01 10:24:00            0.29       17548      UK         -6.96   \n",
       "237 2010-12-01 10:24:00            0.29       17548      UK         -6.96   \n",
       "\n",
       "    invoice_month  month  weekday  hour  \n",
       "141       2010-12     12        3     9  \n",
       "154       2010-12     12        3     9  \n",
       "235       2010-12     12        3    10  \n",
       "236       2010-12     12        3    10  \n",
       "237       2010-12     12        3    10  "
      ]
     },
     "execution_count": 82,
     "metadata": {},
     "output_type": "execute_result"
    }
   ],
   "source": [
    "df_returns.head()"
   ]
  },
  {
   "cell_type": "code",
   "execution_count": 83,
   "id": "f38411e0-5051-4fde-a99e-4616f2aba43a",
   "metadata": {},
   "outputs": [
    {
     "data": {
      "text/plain": [
       "(392730, 13)"
      ]
     },
     "execution_count": 83,
     "metadata": {},
     "output_type": "execute_result"
    }
   ],
   "source": [
    "df_sales.shape"
   ]
  },
  {
   "cell_type": "code",
   "execution_count": 84,
   "id": "67b50954-8723-49c4-9230-f7afd4933a23",
   "metadata": {},
   "outputs": [
    {
     "data": {
      "text/plain": [
       "(8869, 13)"
      ]
     },
     "execution_count": 84,
     "metadata": {},
     "output_type": "execute_result"
    }
   ],
   "source": [
    "df_returns.shape"
   ]
  },
  {
   "cell_type": "code",
   "execution_count": 85,
   "id": "27ac2d24-1f8e-4217-83fe-219b5d671441",
   "metadata": {},
   "outputs": [
    {
     "name": "stdout",
     "output_type": "stream",
     "text": [
      "<class 'pandas.core.frame.DataFrame'>\n",
      "Index: 401599 entries, 0 to 541908\n",
      "Data columns (total 13 columns):\n",
      " #   Column          Non-Null Count   Dtype         \n",
      "---  ------          --------------   -----         \n",
      " 0   id_invoice      401599 non-null  object        \n",
      " 1   code_stock      401599 non-null  object        \n",
      " 2   name            401599 non-null  object        \n",
      " 3   quantity        401599 non-null  int64         \n",
      " 4   invoice_date    401599 non-null  datetime64[ns]\n",
      " 5   price_per_unit  401599 non-null  float64       \n",
      " 6   id_customer     401599 non-null  object        \n",
      " 7   country         401599 non-null  object        \n",
      " 8   total_income    401599 non-null  float64       \n",
      " 9   invoice_month   401599 non-null  period[M]     \n",
      " 10  month           401599 non-null  int32         \n",
      " 11  weekday         401599 non-null  int32         \n",
      " 12  hour            401599 non-null  int32         \n",
      "dtypes: datetime64[ns](1), float64(2), int32(3), int64(1), object(5), period[M](1)\n",
      "memory usage: 38.3+ MB\n"
     ]
    }
   ],
   "source": [
    "df.info()"
   ]
  },
  {
   "cell_type": "code",
   "execution_count": 86,
   "id": "46df0435-3b23-4512-831b-3ccf7caf76d1",
   "metadata": {},
   "outputs": [
    {
     "data": {
      "text/html": [
       "<div>\n",
       "<style scoped>\n",
       "    .dataframe tbody tr th:only-of-type {\n",
       "        vertical-align: middle;\n",
       "    }\n",
       "\n",
       "    .dataframe tbody tr th {\n",
       "        vertical-align: top;\n",
       "    }\n",
       "\n",
       "    .dataframe thead th {\n",
       "        text-align: right;\n",
       "    }\n",
       "</style>\n",
       "<table border=\"1\" class=\"dataframe\">\n",
       "  <thead>\n",
       "    <tr style=\"text-align: right;\">\n",
       "      <th></th>\n",
       "      <th>quantity</th>\n",
       "      <th>invoice_date</th>\n",
       "      <th>price_per_unit</th>\n",
       "      <th>total_income</th>\n",
       "      <th>month</th>\n",
       "      <th>weekday</th>\n",
       "      <th>hour</th>\n",
       "    </tr>\n",
       "  </thead>\n",
       "  <tbody>\n",
       "    <tr>\n",
       "      <th>count</th>\n",
       "      <td>401599.000000</td>\n",
       "      <td>401599</td>\n",
       "      <td>401599.000000</td>\n",
       "      <td>401599.000000</td>\n",
       "      <td>401599.000000</td>\n",
       "      <td>401599.000000</td>\n",
       "      <td>401599.000000</td>\n",
       "    </tr>\n",
       "    <tr>\n",
       "      <th>mean</th>\n",
       "      <td>12.183427</td>\n",
       "      <td>2011-07-10 12:08:39.394072320</td>\n",
       "      <td>3.377054</td>\n",
       "      <td>20.710932</td>\n",
       "      <td>7.595422</td>\n",
       "      <td>3.598809</td>\n",
       "      <td>12.731058</td>\n",
       "    </tr>\n",
       "    <tr>\n",
       "      <th>min</th>\n",
       "      <td>-9360.000000</td>\n",
       "      <td>2010-12-01 08:26:00</td>\n",
       "      <td>0.000000</td>\n",
       "      <td>-8322.120000</td>\n",
       "      <td>1.000000</td>\n",
       "      <td>1.000000</td>\n",
       "      <td>6.000000</td>\n",
       "    </tr>\n",
       "    <tr>\n",
       "      <th>25%</th>\n",
       "      <td>2.000000</td>\n",
       "      <td>2011-04-06 15:02:00</td>\n",
       "      <td>1.250000</td>\n",
       "      <td>4.250000</td>\n",
       "      <td>5.000000</td>\n",
       "      <td>2.000000</td>\n",
       "      <td>11.000000</td>\n",
       "    </tr>\n",
       "    <tr>\n",
       "      <th>50%</th>\n",
       "      <td>5.000000</td>\n",
       "      <td>2011-07-29 15:40:00</td>\n",
       "      <td>1.950000</td>\n",
       "      <td>11.700000</td>\n",
       "      <td>8.000000</td>\n",
       "      <td>3.000000</td>\n",
       "      <td>13.000000</td>\n",
       "    </tr>\n",
       "    <tr>\n",
       "      <th>75%</th>\n",
       "      <td>12.000000</td>\n",
       "      <td>2011-10-20 11:58:00</td>\n",
       "      <td>3.750000</td>\n",
       "      <td>19.800000</td>\n",
       "      <td>11.000000</td>\n",
       "      <td>5.000000</td>\n",
       "      <td>14.000000</td>\n",
       "    </tr>\n",
       "    <tr>\n",
       "      <th>max</th>\n",
       "      <td>12540.000000</td>\n",
       "      <td>2011-12-09 12:50:00</td>\n",
       "      <td>8142.750000</td>\n",
       "      <td>38970.000000</td>\n",
       "      <td>12.000000</td>\n",
       "      <td>7.000000</td>\n",
       "      <td>20.000000</td>\n",
       "    </tr>\n",
       "    <tr>\n",
       "      <th>std</th>\n",
       "      <td>50.420191</td>\n",
       "      <td>NaN</td>\n",
       "      <td>32.957563</td>\n",
       "      <td>102.011787</td>\n",
       "      <td>3.417425</td>\n",
       "      <td>1.917508</td>\n",
       "      <td>2.288199</td>\n",
       "    </tr>\n",
       "  </tbody>\n",
       "</table>\n",
       "</div>"
      ],
      "text/plain": [
       "            quantity                   invoice_date  price_per_unit  \\\n",
       "count  401599.000000                         401599   401599.000000   \n",
       "mean       12.183427  2011-07-10 12:08:39.394072320        3.377054   \n",
       "min     -9360.000000            2010-12-01 08:26:00        0.000000   \n",
       "25%         2.000000            2011-04-06 15:02:00        1.250000   \n",
       "50%         5.000000            2011-07-29 15:40:00        1.950000   \n",
       "75%        12.000000            2011-10-20 11:58:00        3.750000   \n",
       "max     12540.000000            2011-12-09 12:50:00     8142.750000   \n",
       "std        50.420191                            NaN       32.957563   \n",
       "\n",
       "        total_income          month        weekday           hour  \n",
       "count  401599.000000  401599.000000  401599.000000  401599.000000  \n",
       "mean       20.710932       7.595422       3.598809      12.731058  \n",
       "min     -8322.120000       1.000000       1.000000       6.000000  \n",
       "25%         4.250000       5.000000       2.000000      11.000000  \n",
       "50%        11.700000       8.000000       3.000000      13.000000  \n",
       "75%        19.800000      11.000000       5.000000      14.000000  \n",
       "max     38970.000000      12.000000       7.000000      20.000000  \n",
       "std       102.011787       3.417425       1.917508       2.288199  "
      ]
     },
     "execution_count": 86,
     "metadata": {},
     "output_type": "execute_result"
    }
   ],
   "source": [
    "df.describe()"
   ]
  },
  {
   "cell_type": "markdown",
   "id": "7a2f3d82-779e-4c2b-978f-62d5b7d4ad57",
   "metadata": {},
   "source": [
    "# Final Datasets"
   ]
  },
  {
   "cell_type": "code",
   "execution_count": 88,
   "id": "c6f59e43-3df8-4bfe-806e-916a4370e69d",
   "metadata": {},
   "outputs": [],
   "source": [
    "# for df\n",
    "\n",
    "import os\n",
    "\n",
    "# From notebooks/transform.ipynb to data/\n",
    "export_path = '../data'\n",
    "os.makedirs(export_path, exist_ok=True)  # if it doesn't exist\n",
    "\n",
    "df.to_csv(os.path.join(export_path, 'df.csv'), index=False)"
   ]
  },
  {
   "cell_type": "code",
   "execution_count": 89,
   "id": "e207b2ca-5880-492f-9f2f-06fbd6a668db",
   "metadata": {},
   "outputs": [],
   "source": [
    "# for df_sales\n",
    "\n",
    "# From notebooks/transform.ipynb to data/\n",
    "export_path = '../data'\n",
    "os.makedirs(export_path, exist_ok=True)  # if it doesn't exist\n",
    "\n",
    "df_sales.to_csv(os.path.join(export_path, 'df_sales.csv'), index=False)"
   ]
  },
  {
   "cell_type": "code",
   "execution_count": 90,
   "id": "37229df6-f8f7-4c92-8dac-f296c942d4ce",
   "metadata": {},
   "outputs": [],
   "source": [
    "# for df_returns\n",
    "\n",
    "# From notebooks/transform.ipynb to data/\n",
    "export_path = '../data'\n",
    "os.makedirs(export_path, exist_ok=True)  # if it doesn't exist\n",
    "\n",
    "df_returns.to_csv(os.path.join(export_path, 'df_returns.csv'), index=False)"
   ]
  },
  {
   "cell_type": "markdown",
   "id": "584715a4-5a6c-45d7-993a-e98664a7fca7",
   "metadata": {},
   "source": [
    "# Summary"
   ]
  },
  {
   "cell_type": "markdown",
   "id": "2b1e9988-bfc6-4bd3-8593-df405ab9d7a8",
   "metadata": {},
   "source": [
    "Key findings from the EDA:\n",
    "\n",
    "**Revenue Distribution:** Exists a large variance in total_income, with some transactions making significant outliers. Median revenue is correct, indicating that most orders are of low to mid value.\n",
    "\n",
    "**Product Sales:** The quantity field ranges from -9600 to 12540, here is potential issue (e.g., returns? or errors) that should be handle with care.\n",
    "\n",
    "**Sales by Time:** 'month', 'weekday' and 'hour' will help to understand when customers buy the most or peak hours.\n",
    "\n",
    "**Customer and Region Analysis:** 'country' and 'id_customer' fields allow for deep segmentation for the revenue by region and customer behavior.\n",
    "\n",
    "**Missing Data:** 'name' field has about 1400 missing values (0.3%), which I must take in mind in the report.\n",
    "\n",
    "Based on this last outputs from EDA, the dashboard will focus on three main pillars: \n",
    "- *Revenue Performance*\n",
    "- *Customer Segments*\n",
    "- *Sales Behavior Over Time*"
   ]
  },
  {
   "cell_type": "code",
   "execution_count": null,
   "id": "586b06e5-4832-4e01-b558-225bbf4e3092",
   "metadata": {},
   "outputs": [],
   "source": []
  }
 ],
 "metadata": {
  "kernelspec": {
   "display_name": "Python 3 (ipykernel)",
   "language": "python",
   "name": "python3"
  },
  "language_info": {
   "codemirror_mode": {
    "name": "ipython",
    "version": 3
   },
   "file_extension": ".py",
   "mimetype": "text/x-python",
   "name": "python",
   "nbconvert_exporter": "python",
   "pygments_lexer": "ipython3",
   "version": "3.12.7"
  }
 },
 "nbformat": 4,
 "nbformat_minor": 5
}
